{
 "cells": [
  {
   "cell_type": "markdown",
   "metadata": {},
   "source": [
    "# Numerical solution to the Taylor-Goldstein equation\n",
    "\n",
    "The eigenvalue problem for internal wave modes with shear is [cf. Grimshaw et al., 2004]\n",
    "\n",
    "$$\n",
    "\\frac{d}{dz}\\lbrace\\left[c-U(z)\\right]^2\\frac{d \\phi}{dz} \\rbrace + N^2(z)\\phi = 0\n",
    "$$\n",
    "\n",
    "with boundary conditions $\\phi(0) = \\phi(-H) = 0$. Many papers omit details for solving this numerically, so here we present a solution using the shooting method for boundary value problems. This method has been applied to similar wave-like eigenvalue problems (e.g., Hazel, 1972; Winters et al...). \n",
    "\n",
    "The numerical solution method is as follows: \n",
    "\n",
    "- Break up Eq (1) into a system of (two) first-order ODEs by first setting\n",
    "\n",
    "$$\n",
    "y_1 = [c-U(z)]^2\\phi\n",
    "$$\n",
    "\n",
    "$$\n",
    "y_2 = y_1' \\equiv \\frac{dy_1}{dz}\n",
    "$$\n",
    "\n",
    " - The two ODEs are\n",
    " \n",
    "$$\n",
    "\\frac{d y_2}{dz}  = -\\frac{N(z)^2}{[c-U(z)]^2}y_1\n",
    "$$\n",
    "\n",
    "$$\n",
    "\\frac{dy_1}{dz} = y_2\n",
    "$$\n",
    "\n",
    " - Integrate the system by setting $y_1(0) = 0$ (the top boundary condition) and guessing initial values for $y_2(0)$ and $c$. This is the shooting step where we use `odeint` in scipy.\n",
    " \n",
    " - The goal is to find values of $y_2(0)$ and $c$ so that the boundary condition $y_1(-H)=0$.\n",
    " \n",
    " - We use an optimization routine `least_squares` in scipy to perform this task. This routine allows one to set bounds on the parameters $y_2(0)$ and $c$ i.e., return physically meaningful results. \n",
    " \n",
    " - One thing to note is that the final optimized solution is still dependent on the initial conditions. To ensure that we are searching for the desired mode, we use $c$ from the solution to the shear-free eigenvalue problem as an intitial guess."
   ]
  },
  {
   "cell_type": "code",
   "execution_count": 1,
   "metadata": {
    "collapsed": true
   },
   "outputs": [],
   "source": [
    "\n",
    "import matplotlib.pyplot as plt\n",
    "import numpy as np\n",
    "from scipy import sparse\n",
    "from scipy.sparse import linalg\n",
    "from scipy.optimize import least_squares, newton_krylov, fsolve\n",
    "from scipy.integrate import solve_bvp, odeint\n",
    "from scipy.interpolate import interp1d\n",
    "\n",
    "from iwaves.utils.isw import iwave_modes\n",
    "\n",
    "%matplotlib inline"
   ]
  },
  {
   "cell_type": "code",
   "execution_count": 3,
   "metadata": {
    "collapsed": true
   },
   "outputs": [],
   "source": [
    "# Discretized version of the two ODEs\n",
    "def odefun(phi, y, c, Fn, Fu):\n",
    "\n",
    "    phi1, phi2 = phi\n",
    "    dphi1 = phi2\n",
    "    uc2 = (c - Fu(y))**2\n",
    "    dphi2 = -Fn(y)/uc2 * phi1\n",
    "\n",
    "    return [dphi1, dphi2]"
   ]
  },
  {
   "cell_type": "code",
   "execution_count": 6,
   "metadata": {
    "collapsed": true
   },
   "outputs": [],
   "source": [
    "# This is the objective function we are trying to optimize i.e. return y_1(-H) = 0 \n",
    "def objective(args, Fn, Fu):\n",
    "    phi_1 = 0. # Bottom BC (hard-wired for now...)\n",
    "    u2_0, cn = args\n",
    "    dspan = np.linspace(0, d)\n",
    "    U = odeint(odefun2, [phi_1, u2_0], dspan, args=(cn, Fn, Fu))\n",
    "    u1 = U[:,0]\n",
    "    u2 = U[:,1]\n",
    "    # Ensure the top bc is zero\n",
    "    return u1[-1]#, u2[-1]"
   ]
  },
  {
   "cell_type": "code",
   "execution_count": 46,
   "metadata": {
    "collapsed": false
   },
   "outputs": [],
   "source": [
    "def tgsolve(z, U, N2, mode):\n",
    "    \"\"\"\n",
    "    Taylor-Goldstein equation solver\n",
    "    \"\"\"\n",
    "\n",
    "    dz = np.abs(z[1]-z[0]) # Assume constant spacing\n",
    "\n",
    "    # Guess the initial conditions from the shear-free solution\n",
    "    phin, cn = iwave_modes(N2, dz)\n",
    "    cguess = cn[mode]\n",
    "    phi_2_guess = 1.05\n",
    "\n",
    "    # Functions mapping the velocity and N^2 profile to any height\n",
    "    # (Use interpolation here although we could ascribe an analytic expression)\n",
    "    Fn = interp1d(z, N2, kind=2, fill_value='extrapolate')\n",
    "    Fu = interp1d(z, U, kind=2, fill_value='extrapolate')\n",
    "\n",
    "    # Optimization step\n",
    "    soln = least_squares(objective, [phi_2_guess, cguess], xtol=1e-12, \\\n",
    "            bounds=((0,cguess-cguess*0.55), (2., cguess+cguess*0.55)),\\\n",
    "            args=(Fn,Fu))\n",
    "\n",
    "    # Go back and get the optimal profile using the solution\n",
    "    phi_2, cn = soln['x']\n",
    "    phiall = odeint(odefun2, [0, phi_2], z, args=(cn,Fn,Fu))\n",
    "    phi = phiall[:,0]\n",
    "\n",
    "    # Normalize the profile\n",
    "    idx = np.where(np.abs(phi)==np.abs(phi).max())[0][0]\n",
    "    phi /= phi[idx]\n",
    "\n",
    "    return phi, cn\n",
    "\n"
   ]
  },
  {
   "cell_type": "code",
   "execution_count": 44,
   "metadata": {
    "collapsed": true
   },
   "outputs": [],
   "source": [
    "# Create some initial data\n",
    "d = 500\n",
    "Nz = 250\n",
    "N = 0.01\n",
    "S = 0.001\n",
    "\n",
    "RHO0 = 1024.\n",
    "GRAV = 9.81\n",
    "\n",
    "# Create the density initial conditions\n",
    "z = np.linspace(0, d, Nz)\n",
    "\n",
    "\n",
    "# Idealized density profoile\n",
    "# drho, dp, Li, rho0\n",
    "#rhoz = ideal_rho(z, drho, dp, Li) + sig0 # Summer\n",
    "\n",
    "N2 = N*N*np.ones_like(z)\n",
    "U = S*z\n",
    "Uzz = U*0.\n",
    "\n",
    "mode = 0"
   ]
  },
  {
   "cell_type": "code",
   "execution_count": 45,
   "metadata": {
    "collapsed": false
   },
   "outputs": [
    {
     "data": {
      "image/png": "[encoded data removed]",
      "text/plain": [
       "<matplotlib.figure.Figure at 0x7f3d2ce15090>"
      ]
     },
     "metadata": {},
     "output_type": "display_data"
    }
   ],
   "source": [
    "phi, cn = tgsolve(z,U,N2,mode)\n",
    "\n",
    "plt.figure(figsize=(4,7))\n",
    "plt.plot(phi,z)\n",
    "plt.show()"
   ]
  },
  {
   "cell_type": "code",
   "execution_count": 41,
   "metadata": {
    "collapsed": false
   },
   "outputs": [
    {
     "data": {
      "image/png": "[encoded data removed]",
      "text/plain": [
       "<matplotlib.figure.Figure at 0x7f3d44096b10>"
      ]
     },
     "metadata": {},
     "output_type": "display_data"
    }
   ],
   "source": [
    "# Hazel, 1972 - Mixing layer model\n",
    "\n",
    "Nz = 100\n",
    "z = np.linspace(-4,4, Nz)\n",
    "\n",
    "U = np.tanh(z)\n",
    "\n",
    "N2 = 1/np.cosh(z)**2 # sech^2(z)\n",
    "\n",
    "mode=0\n",
    "\n",
    "plt.figure()\n",
    "plt.subplot(121)\n",
    "plt.plot(U,z)\n",
    "plt.subplot(122)\n",
    "plt.plot(N2,z)\n",
    "plt.show()"
   ]
  },
  {
   "cell_type": "code",
   "execution_count": 42,
   "metadata": {
    "collapsed": false
   },
   "outputs": [
    {
     "data": {
      "image/png": "[encoded data removed]",
      "text/plain": [
       "<matplotlib.figure.Figure at 0x7f3d4405ad50>"
      ]
     },
     "metadata": {},
     "output_type": "display_data"
    }
   ],
   "source": [
    "phi, cn = tgsolve(z,U,N2,mode)\n",
    "\n",
    "plt.figure(figsize=(4,7))\n",
    "plt.plot(phi,z)\n",
    "plt.show()\n"
   ]
  },
  {
   "cell_type": "code",
   "execution_count": 36,
   "metadata": {
    "collapsed": false
   },
   "outputs": [
    {
     "data": {
      "text/plain": [
       "43.476199428204112"
      ]
     },
     "execution_count": 36,
     "metadata": {},
     "output_type": "execute_result"
    }
   ],
   "source": [
    "phin, cn = iwave_modes(N2, dz)\n",
    "cn[0]"
   ]
  },
  {
   "cell_type": "code",
   "execution_count": null,
   "metadata": {
    "collapsed": true
   },
   "outputs": [],
   "source": []
  }
 ],
 "metadata": {
  "kernelspec": {
   "display_name": "Python 2",
   "language": "python",
   "name": "python2"
  },
  "language_info": {
   "codemirror_mode": {
    "name": "ipython",
    "version": 2
   },
   "file_extension": ".py",
   "mimetype": "text/x-python",
   "name": "python",
   "nbconvert_exporter": "python",
   "pygments_lexer": "ipython2",
   "version": "2.7.13"
  }
 },
 "nbformat": 4,
 "nbformat_minor": 2
}
