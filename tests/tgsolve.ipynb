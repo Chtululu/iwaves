{
 "cells": [
  {
   "cell_type": "markdown",
   "metadata": {},
   "source": [
    "# Numerical solution to the Taylor-Goldstein equation\n",
    "\n",
    "The eigenvalue problem for internal wave modes with shear is [cf. Grimshaw et al., 2004]\n",
    "\n",
    "$$\n",
    "\\frac{d}{dz}\\lbrace\\left[c-U(z)\\right]^2\\frac{d \\phi}{dz} \\rbrace + N^2(z)\\phi = 0\n",
    "$$\n",
    "\n",
    "with boundary conditions $\\phi(0) = \\phi(-H) = 0$. Many papers omit details for solving this numerically, so here we present a solution using the shooting method for boundary value problems. This method has been applied to similar wave-like eigenvalue problems (e.g., Hazel, 1972; Winters et al...). \n",
    "\n",
    "The numerical solution method is as follows: \n",
    "\n",
    "- Break up Eq (1) into a system of (two) first-order ODEs by first setting\n",
    "\n",
    "$$\n",
    "y_1 = [c-U(z)]^2\\phi\n",
    "$$\n",
    "\n",
    "$$\n",
    "y_2 = y_1' \\equiv \\frac{dy_1}{dz}\n",
    "$$\n",
    "\n",
    " - The two ODEs are\n",
    " \n",
    "$$\n",
    "\\frac{d y_2}{dz}  = -\\frac{N(z)^2}{[c-U(z)]^2}y_1\n",
    "$$\n",
    "\n",
    "$$\n",
    "\\frac{dy_1}{dz} = y_2\n",
    "$$\n",
    "\n",
    " - Integrate the system by setting $y_1(0) = 0$ (the top boundary condition) and guessing initial values for $y_2(0)$ and $c$. This is the shooting step where we use `odeint` in scipy.\n",
    " \n",
    " - The goal is to find values of $y_2(0)$ and $c$ so that the boundary condition $y_1(-H)=0$.\n",
    " \n",
    " - We use an optimization routine `least_squares` in scipy to perform this task. This routine allows one to set bounds on the parameters $y_2(0)$ and $c$ i.e., return physically meaningful results. \n",
    " \n",
    " - One thing to note is that the final optimized solution is still dependent on the initial conditions. To ensure that we are searching for the desired mode, we use $c$ from the solution to the shear-free eigenvalue problem as an intitial guess.\n",
    " \n",
    " \n",
    "---\n",
    "\n",
    "## Liu et al equations\n",
    "\n",
    "\n",
    "$$\n",
    "    \\frac{d^2 \\phi}{dz^2}+ \\left[\\frac{U_{zz}}{U-c} - \\frac{N^2}{(U-c)^2} \\right]\\phi = 0\n",
    "$$\n",
    "\n",
    "We basically apply the same approach- Break up Eq (1) into a system of (two) first-order ODEs by first setting\n",
    "\n",
    "$$\n",
    "y_1 = \\phi\n",
    "$$\n",
    "\n",
    "$$\n",
    "y_2 = y_1' \\equiv \\frac{dy_1}{dz}\n",
    "$$\n",
    "\n",
    " - The two ODEs are\n",
    " \n",
    "$$\n",
    "\\frac{d y_2}{dz}  = \\left[\\frac{U_{zz}}{U-c} - \\frac{N^2}{(U-c)^2} \\right]y_1\n",
    "$$\n",
    "\n",
    "$$\n",
    "\\frac{dy_1}{dz} = y_2\n",
    "$$"
   ]
  },
  {
   "cell_type": "code",
   "execution_count": 4,
   "metadata": {
    "collapsed": true
   },
   "outputs": [],
   "source": [
    "\n",
    "import matplotlib.pyplot as plt\n",
    "import numpy as np\n",
    "from scipy import sparse\n",
    "from scipy.sparse import linalg\n",
    "from scipy.optimize import least_squares, root\n",
    "from scipy.integrate import solve_bvp, odeint\n",
    "from scipy.interpolate import interp1d\n",
    "\n",
    "from iwaves.utils.isw import iwave_modes\n",
    "from iwaves import IWaveModes\n",
    "from iwaves.utils.density import double_tanh_rho\n",
    "#from iwaves.utils.tgsolve import tgsolve\n",
    "\n",
    "import pdb\n",
    "\n",
    "%matplotlib inline"
   ]
  },
  {
   "cell_type": "code",
   "execution_count": 5,
   "metadata": {
    "collapsed": true
   },
   "outputs": [],
   "source": [
    "# Discretized version of the two ODEs\n",
    "def odefun(phi, y, c, Fn, Fu):\n",
    "\n",
    "    phi1, phi2 = phi\n",
    "    dphi1 = phi2*1\n",
    "    uc2 = (c - Fu(y))**2\n",
    "    #uc2 = (Fu(y)-c)**2\n",
    "\n",
    "    dphi2 = -Fn(y)/uc2 * phi1\n",
    "\n",
    "    return [dphi1, dphi2]"
   ]
  },
  {
   "cell_type": "code",
   "execution_count": 6,
   "metadata": {
    "collapsed": true
   },
   "outputs": [],
   "source": [
    "# Discretized version of the two ODEs\n",
    "def odefun2(phi, y, c, Fn, Fu, Fuzz):\n",
    "\n",
    "    phi1, phi2 = phi\n",
    "    dphi1 = phi2*1\n",
    "    uc = c - Fu(y)\n",
    "\n",
    "    dphi2 = (Fuzz(y)/uc - Fn(y)/uc**2) * phi1\n",
    "\n",
    "    return [dphi1, dphi2]"
   ]
  },
  {
   "cell_type": "code",
   "execution_count": 7,
   "metadata": {
    "collapsed": true
   },
   "outputs": [],
   "source": [
    "# This is the objective function we are trying to optimize i.e. return y_1(-H) = 0 \n",
    "def objective(args, Fn, Fu, z):\n",
    "    phi_1 = 0. # Bottom BC (hard-wired for now...)\n",
    "    u2_0, cn = args\n",
    "    \n",
    "    U = odeint(odefun, [phi_1, u2_0], z, args=(cn, Fn, Fu))\n",
    "    u1 = U[:,0]\n",
    "    u2 = U[:,1]\n",
    "    # Ensure the top bc is zero\n",
    "    return u1[0], u1[-1]"
   ]
  },
  {
   "cell_type": "code",
   "execution_count": 8,
   "metadata": {
    "collapsed": true
   },
   "outputs": [],
   "source": [
    "# This is the objective function we are trying to optimize i.e. return y_1(-H) = 0 \n",
    "def objective2(args, Fn, Fu, Fuzz, z):\n",
    "    phi_1 = 0. # Bottom BC (hard-wired for now...)\n",
    "    u2_0, cn = args\n",
    "    \n",
    "    U = odeint(odefun2, [phi_1, u2_0], z, args=(cn, Fn, Fu, Fuzz))\n",
    "    u1 = U[:,0]\n",
    "    u2 = U[:,1]\n",
    "    # Ensure the top bc is zero\n",
    "    return u1[0], u1[-1]"
   ]
  },
  {
   "cell_type": "code",
   "execution_count": 9,
   "metadata": {
    "collapsed": true
   },
   "outputs": [],
   "source": [
    "def tgsolve(z, U, N2, mode):\n",
    "    \"\"\"\n",
    "    Taylor-Goldstein equation solver\n",
    "    \"\"\"\n",
    "\n",
    "    dz = np.abs(z[1]-z[0]) # Assume constant spacing\n",
    "\n",
    "    # Guess the initial conditions from the shear-free solution\n",
    "    phin, cn = iwave_modes(N2, dz)\n",
    "    cguess = cn[mode]\n",
    "    phi_2_guess = 0.15\n",
    "\n",
    "    # Functions mapping the velocity and N^2 profile to any height\n",
    "    # (Use interpolation here although we could ascribe an analytic expression)\n",
    "    Fn = interp1d(z, N2, kind=2, fill_value='extrapolate')\n",
    "    Fu = interp1d(z, U, kind=2, fill_value='extrapolate')\n",
    "    \n",
    "    # Optimization step\n",
    "    #soln = least_squares(objective, [phi_2_guess, cguess], xtol=1e-8, \\\n",
    "    #        bounds=((0,cguess-cguess*0.55), (2., cguess+cguess*0.55)),\\\n",
    "    #        args=(Fn,Fu, z), \n",
    "    #        verbose=0,\n",
    "    #        diff_step=1e-4,\n",
    "    #        method='dogbox',\n",
    "    #    )\n",
    "    soln = root(objective, [phi_2_guess, cguess], args=(Fn,Fu, z), method='krylov', tol=1e-8)\n",
    "\n",
    "    # Go back and get the optimal profile using the solution\n",
    "    phi_2, cn = soln['x']\n",
    "    phiall = odeint(odefun, [0, phi_2], z, args=(cn,Fn,Fu))\n",
    "    phi = phiall[:,0]\n",
    "\n",
    "    # Normalize the profile\n",
    "    idx = np.where(np.abs(phi)==np.abs(phi).max())[0][0]\n",
    "    phi /= phi[idx]\n",
    "       \n",
    "    #print phi[0], phi[-1]\n",
    "    if np.abs(phi[-1]) > 1e-6:\n",
    "        print 'Warning: Convergence Issue with TG-solver'\n",
    "    \n",
    "    return phi, cn\n",
    "\n"
   ]
  },
  {
   "cell_type": "code",
   "execution_count": 10,
   "metadata": {
    "collapsed": true
   },
   "outputs": [],
   "source": [
    "def tgsolvefull(z, U, N2, mode):\n",
    "    \"\"\"\n",
    "    Taylor-Goldstein equation solver\n",
    "    \"\"\"\n",
    "\n",
    "    dz = np.abs(z[1]-z[0]) # Assume constant spacing\n",
    "\n",
    "    # Guess the initial conditions from the shear-free solution\n",
    "    phin, cn = iwave_modes(N2, dz)\n",
    "    cguess = cn[mode]\n",
    "    phi_2_guess = 0.15\n",
    "    \n",
    "    # Compute the second derivative\n",
    "    Uz = np.gradient(U, -dz) \n",
    "    Uzz = np.gradient(Uz, -dz) \n",
    "\n",
    "\n",
    "    # Functions mapping the velocity and N^2 profile to any height\n",
    "    # (Use interpolation here although we could ascribe an analytic expression)\n",
    "    Fn = interp1d(z, N2, kind=2, fill_value='extrapolate')\n",
    "    Fu = interp1d(z, U, kind=2, fill_value='extrapolate')\n",
    "    Fuzz = interp1d(z, Uzz, kind=2, fill_value='extrapolate')\n",
    "\n",
    "    # Optimization step\n",
    "    #soln = least_squares(objective, [phi_2_guess, cguess], xtol=1e-8, \\\n",
    "    #        bounds=((0,cguess-cguess*0.55), (2., cguess+cguess*0.55)),\\\n",
    "    #        args=(Fn,Fu, z), \n",
    "    #        verbose=0,\n",
    "    #        diff_step=1e-4,\n",
    "    #        method='dogbox',\n",
    "    #    )\n",
    "    soln = root(objective2, [phi_2_guess, cguess], args=(Fn,Fu,Fuzz, z), method='krylov', tol=1e-8)\n",
    "\n",
    "    # Go back and get the optimal profile using the solution\n",
    "    phi_2, cn = soln['x']\n",
    "    phiall = odeint(odefun2, [0, phi_2], z, args=(cn,Fn,Fu,Fuzz))\n",
    "    phi = phiall[:,0]\n",
    "\n",
    "    # Normalize the profile\n",
    "    idx = np.where(np.abs(phi)==np.abs(phi).max())[0][0]\n",
    "    phi /= phi[idx]\n",
    "       \n",
    "    #print phi[0], phi[-1]\n",
    "    if np.abs(phi[-1]) > 1e-6:\n",
    "        print 'Warning: Convergence Issue with TG-solver'\n",
    "    \n",
    "    return phi, cn\n"
   ]
  },
  {
   "cell_type": "code",
   "execution_count": 11,
   "metadata": {
    "collapsed": true
   },
   "outputs": [],
   "source": [
    "def calc_alpha_wshear(phi, c, U, dz):\n",
    "    \"\"\"\n",
    "    alpha with shear (see Grimshaw 2004)\n",
    "    \"\"\"\n",
    "    phi_z = np.gradient(phi, -np.abs(dz))\n",
    "    #num = 3*np.trapz((c-U)**2. * phi_z**3., dx = np.abs(dz))\n",
    "    #den = 2*np.trapz((c-U) * phi_z**2., dx = np.abs(dz))\n",
    "    \n",
    "    # Liu et al definition\n",
    "    Uz = np.gradient(U, -np.abs(dz))\n",
    "\n",
    "    num = 3*c*np.trapz( 1/(c-U) * (phi_z - Uz/(U-c)*phi)**3., dx = np.abs(dz))\n",
    "    den = 2*np.trapz( 1/(c-U) * (phi_z - Uz/(U-c)*phi)**2., dx = np.abs(dz))\n",
    "\n",
    "    return num/den"
   ]
  },
  {
   "cell_type": "raw",
   "metadata": {
    "collapsed": true
   },
   "source": [
    "# Create some initial data\n",
    "d = 500\n",
    "Nz = 250\n",
    "N = 0.01\n",
    "S = 0.001\n",
    "\n",
    "RHO0 = 1024.\n",
    "GRAV = 9.81\n",
    "\n",
    "# Create the density initial conditions\n",
    "z = np.linspace(0, d, Nz)\n",
    "dz = np.abs(z[1]-z[0]) # Assume constant spacing\n",
    "\n",
    "# Idealized density profoile\n",
    "# drho, dp, Li, rho0\n",
    "#rhoz = ideal_rho(z, drho, dp, Li) + sig0 # Summer\n",
    "\n",
    "N2 = N*N*np.ones_like(z)\n",
    "U = S*z\n",
    "Uzz = U*0.\n",
    "\n",
    "mode = 0"
   ]
  },
  {
   "cell_type": "raw",
   "metadata": {},
   "source": [
    "phis, cns = tgsolve(z,U,N2,mode)\n",
    "phi, cn = tgsolve(z,U*0,N2,mode)\n",
    "\n",
    "alpha_s = calc_alpha_wshear(phis, cns, U, dz)\n",
    "alpha = calc_alpha_wshear(phi, cn, U*0, dz)\n",
    "\n",
    "\n",
    "print cn, cns, alpha, alpha_s\n",
    "\n",
    "\n",
    "\n",
    "plt.figure(figsize=(12,6))\n",
    "plt.subplot(131)\n",
    "plt.plot(phis,z)\n",
    "plt.plot(phi,z,'k--')\n",
    "plt.plot(0*phi, z,':',c='0.5')\n",
    "\n",
    "\n",
    "plt.subplot(132)\n",
    "plt.plot(N2,z)\n",
    "\n",
    "plt.subplot(133)\n",
    "plt.plot(U,z)\n",
    "\n",
    "plt.show()"
   ]
  },
  {
   "cell_type": "code",
   "execution_count": 12,
   "metadata": {},
   "outputs": [
    {
     "data": {
      "image/png": "[encoded data removed]",
      "text/plain": [
       "<matplotlib.figure.Figure at 0x7ff027a7dbd0>"
      ]
     },
     "metadata": {},
     "output_type": "display_data"
    },
    {
     "data": {
      "image/png": "[encoded data removed]",
      "text/plain": [
       "<matplotlib.figure.Figure at 0x7ff0682b3450>"
      ]
     },
     "metadata": {},
     "output_type": "display_data"
    }
   ],
   "source": [
    "# KISSME-like conditions\n",
    "\n",
    "# Create some initial data\n",
    "d = 250\n",
    "Nz = 100\n",
    "N = 0.01\n",
    "S = 0.0005\n",
    "\n",
    "RHO0 = 1024.\n",
    "GRAV = 9.81\n",
    "\n",
    "mode = 0\n",
    "# Create the density initial conditions\n",
    "z = np.linspace(0, d, Nz)\n",
    "dz = np.abs(z[1]-z[0]) # Assume constant spacing\n",
    "\n",
    "rho = double_tanh_rho(-z, 1021.11, 1.01, 4.17, 51.75, 145.27, 15.8, 82.35)\n",
    "#rho = double_tanh_rho(-z, 1021.11, 0.01, 4.17, 51.75, 145.27, 15.8, 82.35)\n",
    "\n",
    "\n",
    "iw = IWaveModes(rho[::-1], -z[::-1])\n",
    "iw(-d, dz, mode)\n",
    "iw.plot_modes()\n",
    "\n",
    "# Linear shear (no Uzz)\n",
    "U = S*iw.Z - S*iw.Z[-1]\n",
    "\n",
    "# Exponential decay\n",
    "#U = 0.2*np.exp(iw.Z/100.)\n",
    "\n",
    "N2 = iw.N2\n",
    "\n",
    "plt.figure()\n",
    "plt.plot(U, iw.Z)\n",
    "\n",
    "r10, r01, r20, he = iw.calc_nonlin_params()\n"
   ]
  },
  {
   "cell_type": "code",
   "execution_count": 13,
   "metadata": {},
   "outputs": [
    {
     "ename": "ValueError",
     "evalue": "Jacobian inversion yielded zero vector. This indicates a bug in the Jacobian approximation.",
     "output_type": "error",
     "traceback": [
      "\u001b[0;31m---------------------------------------------------------------------------\u001b[0m",
      "\u001b[0;31mValueError\u001b[0m                                Traceback (most recent call last)",
      "\u001b[0;32m<ipython-input-13-502ef3112c6e>\u001b[0m in \u001b[0;36m<module>\u001b[0;34m()\u001b[0m\n\u001b[1;32m      1\u001b[0m \u001b[0mz\u001b[0m \u001b[0;34m=\u001b[0m \u001b[0miw\u001b[0m\u001b[0;34m.\u001b[0m\u001b[0mZ\u001b[0m\u001b[0;34m\u001b[0m\u001b[0m\n\u001b[1;32m      2\u001b[0m \u001b[0;34m\u001b[0m\u001b[0m\n\u001b[0;32m----> 3\u001b[0;31m \u001b[0mphis\u001b[0m\u001b[0;34m,\u001b[0m \u001b[0mcns\u001b[0m \u001b[0;34m=\u001b[0m \u001b[0mtgsolvefull\u001b[0m\u001b[0;34m(\u001b[0m\u001b[0mz\u001b[0m\u001b[0;34m,\u001b[0m\u001b[0mU\u001b[0m\u001b[0;34m,\u001b[0m\u001b[0mN2\u001b[0m\u001b[0;34m,\u001b[0m\u001b[0mmode\u001b[0m\u001b[0;34m)\u001b[0m\u001b[0;34m\u001b[0m\u001b[0m\n\u001b[0m\u001b[1;32m      4\u001b[0m \u001b[0mphi\u001b[0m\u001b[0;34m,\u001b[0m \u001b[0mcn\u001b[0m \u001b[0;34m=\u001b[0m \u001b[0mtgsolve\u001b[0m\u001b[0;34m(\u001b[0m\u001b[0mz\u001b[0m\u001b[0;34m,\u001b[0m\u001b[0mU\u001b[0m\u001b[0;34m,\u001b[0m\u001b[0mN2\u001b[0m\u001b[0;34m,\u001b[0m\u001b[0mmode\u001b[0m\u001b[0;34m)\u001b[0m\u001b[0;34m\u001b[0m\u001b[0m\n\u001b[1;32m      5\u001b[0m \u001b[0;34m\u001b[0m\u001b[0m\n",
      "\u001b[0;32m<ipython-input-10-dd1c1d77a956>\u001b[0m in \u001b[0;36mtgsolvefull\u001b[0;34m(z, U, N2, mode)\u001b[0m\n\u001b[1;32m     30\u001b[0m     \u001b[0;31m#        method='dogbox',\u001b[0m\u001b[0;34m\u001b[0m\u001b[0;34m\u001b[0m\u001b[0m\n\u001b[1;32m     31\u001b[0m     \u001b[0;31m#    )\u001b[0m\u001b[0;34m\u001b[0m\u001b[0;34m\u001b[0m\u001b[0m\n\u001b[0;32m---> 32\u001b[0;31m     \u001b[0msoln\u001b[0m \u001b[0;34m=\u001b[0m \u001b[0mroot\u001b[0m\u001b[0;34m(\u001b[0m\u001b[0mobjective2\u001b[0m\u001b[0;34m,\u001b[0m \u001b[0;34m[\u001b[0m\u001b[0mphi_2_guess\u001b[0m\u001b[0;34m,\u001b[0m \u001b[0mcguess\u001b[0m\u001b[0;34m]\u001b[0m\u001b[0;34m,\u001b[0m \u001b[0margs\u001b[0m\u001b[0;34m=\u001b[0m\u001b[0;34m(\u001b[0m\u001b[0mFn\u001b[0m\u001b[0;34m,\u001b[0m\u001b[0mFu\u001b[0m\u001b[0;34m,\u001b[0m\u001b[0mFuzz\u001b[0m\u001b[0;34m,\u001b[0m \u001b[0mz\u001b[0m\u001b[0;34m)\u001b[0m\u001b[0;34m,\u001b[0m \u001b[0mmethod\u001b[0m\u001b[0;34m=\u001b[0m\u001b[0;34m'krylov'\u001b[0m\u001b[0;34m,\u001b[0m \u001b[0mtol\u001b[0m\u001b[0;34m=\u001b[0m\u001b[0;36m1e-8\u001b[0m\u001b[0;34m)\u001b[0m\u001b[0;34m\u001b[0m\u001b[0m\n\u001b[0m\u001b[1;32m     33\u001b[0m \u001b[0;34m\u001b[0m\u001b[0m\n\u001b[1;32m     34\u001b[0m     \u001b[0;31m# Go back and get the optimal profile using the solution\u001b[0m\u001b[0;34m\u001b[0m\u001b[0;34m\u001b[0m\u001b[0m\n",
      "\u001b[0;32m/home/suntans/anaconda/envs/suntans/lib/python2.7/site-packages/scipy/optimize/_root.pyc\u001b[0m in \u001b[0;36mroot\u001b[0;34m(fun, x0, args, method, jac, tol, callback, options)\u001b[0m\n\u001b[1;32m    196\u001b[0m         sol = _root_nonlin_solve(fun, x0, args=args, jac=jac,\n\u001b[1;32m    197\u001b[0m                                  \u001b[0m_method\u001b[0m\u001b[0;34m=\u001b[0m\u001b[0mmeth\u001b[0m\u001b[0;34m,\u001b[0m \u001b[0m_callback\u001b[0m\u001b[0;34m=\u001b[0m\u001b[0mcallback\u001b[0m\u001b[0;34m,\u001b[0m\u001b[0;34m\u001b[0m\u001b[0m\n\u001b[0;32m--> 198\u001b[0;31m                                  **options)\n\u001b[0m\u001b[1;32m    199\u001b[0m     \u001b[0;32melse\u001b[0m\u001b[0;34m:\u001b[0m\u001b[0;34m\u001b[0m\u001b[0m\n\u001b[1;32m    200\u001b[0m         \u001b[0;32mraise\u001b[0m \u001b[0mValueError\u001b[0m\u001b[0;34m(\u001b[0m\u001b[0;34m'Unknown solver %s'\u001b[0m \u001b[0;34m%\u001b[0m \u001b[0mmethod\u001b[0m\u001b[0;34m)\u001b[0m\u001b[0;34m\u001b[0m\u001b[0m\n",
      "\u001b[0;32m/home/suntans/anaconda/envs/suntans/lib/python2.7/site-packages/scipy/optimize/_root.pyc\u001b[0m in \u001b[0;36m_root_nonlin_solve\u001b[0;34m(func, x0, args, jac, _callback, _method, nit, disp, maxiter, ftol, fatol, xtol, xatol, tol_norm, line_search, jac_options, **unknown_options)\u001b[0m\n\u001b[1;32m    299\u001b[0m                                   \u001b[0mline_search\u001b[0m\u001b[0;34m=\u001b[0m\u001b[0mline_search\u001b[0m\u001b[0;34m,\u001b[0m\u001b[0;34m\u001b[0m\u001b[0m\n\u001b[1;32m    300\u001b[0m                                   \u001b[0mcallback\u001b[0m\u001b[0;34m=\u001b[0m\u001b[0m_callback\u001b[0m\u001b[0;34m,\u001b[0m \u001b[0mfull_output\u001b[0m\u001b[0;34m=\u001b[0m\u001b[0mTrue\u001b[0m\u001b[0;34m,\u001b[0m\u001b[0;34m\u001b[0m\u001b[0m\n\u001b[0;32m--> 301\u001b[0;31m                                   raise_exception=False)\n\u001b[0m\u001b[1;32m    302\u001b[0m     \u001b[0msol\u001b[0m \u001b[0;34m=\u001b[0m \u001b[0mOptimizeResult\u001b[0m\u001b[0;34m(\u001b[0m\u001b[0mx\u001b[0m\u001b[0;34m=\u001b[0m\u001b[0mx\u001b[0m\u001b[0;34m)\u001b[0m\u001b[0;34m\u001b[0m\u001b[0m\n\u001b[1;32m    303\u001b[0m     \u001b[0msol\u001b[0m\u001b[0;34m.\u001b[0m\u001b[0mupdate\u001b[0m\u001b[0;34m(\u001b[0m\u001b[0minfo\u001b[0m\u001b[0;34m)\u001b[0m\u001b[0;34m\u001b[0m\u001b[0m\n",
      "\u001b[0;32m/home/suntans/anaconda/envs/suntans/lib/python2.7/site-packages/scipy/optimize/nonlin.pyc\u001b[0m in \u001b[0;36mnonlin_solve\u001b[0;34m(F, x0, jacobian, iter, verbose, maxiter, f_tol, f_rtol, x_tol, x_rtol, tol_norm, line_search, callback, full_output, raise_exception)\u001b[0m\n\u001b[1;32m    310\u001b[0m \u001b[0;34m\u001b[0m\u001b[0m\n\u001b[1;32m    311\u001b[0m         \u001b[0;32mif\u001b[0m \u001b[0mnorm\u001b[0m\u001b[0;34m(\u001b[0m\u001b[0mdx\u001b[0m\u001b[0;34m)\u001b[0m \u001b[0;34m==\u001b[0m \u001b[0;36m0\u001b[0m\u001b[0;34m:\u001b[0m\u001b[0;34m\u001b[0m\u001b[0m\n\u001b[0;32m--> 312\u001b[0;31m             raise ValueError(\"Jacobian inversion yielded zero vector. \"\n\u001b[0m\u001b[1;32m    313\u001b[0m                              \u001b[0;34m\"This indicates a bug in the Jacobian \"\u001b[0m\u001b[0;34m\u001b[0m\u001b[0m\n\u001b[1;32m    314\u001b[0m                              \"approximation.\")\n",
      "\u001b[0;31mValueError\u001b[0m: Jacobian inversion yielded zero vector. This indicates a bug in the Jacobian approximation."
     ]
    }
   ],
   "source": [
    "z = iw.Z\n",
    "\n",
    "phis, cns = tgsolvefull(z,U,N2,mode)\n",
    "phi, cn = tgsolve(z,U,N2,mode)\n",
    "\n",
    "alpha_s = calc_alpha_wshear(phis, cns, U, dz)\n",
    "alpha = calc_alpha_wshear(phi, cn, U, dz)\n",
    "print iw.Z[0], iw.Z[-1]\n",
    "\n",
    "print cn, cns, alpha, -r10*2*iw.c1, alpha_s\n",
    "\n",
    "\n",
    "plt.figure(figsize=(6,12))\n",
    "#plt.subplot(141)\n",
    "plt.plot(phis,z)\n",
    "plt.plot(phi,z,'k--')\n",
    "plt.plot(0*phi, z,':',c='0.5')\n",
    "plt.plot(iw.phi, iw.Z,'r')\n",
    "plt.plot([0,1],[-d/2,-d/2],':',c='0.5')\n",
    "\n",
    "plt.figure(figsize=(12,6))\n",
    "plt.subplot(141)\n",
    "plt.plot(phis,z)\n",
    "plt.plot(phi,z,'k--')\n",
    "plt.plot(0*phi, z,':',c='0.5')\n",
    "plt.plot(iw.phi, iw.Z)\n",
    "plt.plot([0,1],[-d/2,-d/2],':',c='0.5')\n",
    "\n",
    "\n",
    "plt.subplot(142)\n",
    "plt.plot(N2,z)\n",
    "\n",
    "plt.subplot(143)\n",
    "plt.plot( 1/(cns-U),z)\n",
    "\n",
    "plt.subplot(144)\n",
    "dphis = np.gradient(phis,-dz)\n",
    "plt.plot(phi - phis, z)\n",
    "\n",
    "plt.show()"
   ]
  },
  {
   "cell_type": "code",
   "execution_count": 386,
   "metadata": {},
   "outputs": [
    {
     "data": {
      "text/plain": [
       "(array([ 0.25      ,  0.24747475,  0.24494949,  0.24242424,  0.23989899,\n",
       "         0.23737374,  0.23484848,  0.23232323,  0.22979798,  0.22727273,\n",
       "         0.22474747,  0.22222222,  0.21969697,  0.21717172,  0.21464646,\n",
       "         0.21212121,  0.20959596,  0.20707071,  0.20454545,  0.2020202 ,\n",
       "         0.19949495,  0.1969697 ,  0.19444444,  0.19191919,  0.18939394,\n",
       "         0.18686869,  0.18434343,  0.18181818,  0.17929293,  0.17676768,\n",
       "         0.17424242,  0.17171717,  0.16919192,  0.16666667,  0.16414141,\n",
       "         0.16161616,  0.15909091,  0.15656566,  0.1540404 ,  0.15151515,\n",
       "         0.1489899 ,  0.14646465,  0.14393939,  0.14141414,  0.13888889,\n",
       "         0.13636364,  0.13383838,  0.13131313,  0.12878788,  0.12626263,\n",
       "         0.12373737,  0.12121212,  0.11868687,  0.11616162,  0.11363636,\n",
       "         0.11111111,  0.10858586,  0.10606061,  0.10353535,  0.1010101 ,\n",
       "         0.09848485,  0.0959596 ,  0.09343434,  0.09090909,  0.08838384,\n",
       "         0.08585859,  0.08333333,  0.08080808,  0.07828283,  0.07575758,\n",
       "         0.07323232,  0.07070707,  0.06818182,  0.06565657,  0.06313131,\n",
       "         0.06060606,  0.05808081,  0.05555556,  0.0530303 ,  0.05050505,\n",
       "         0.0479798 ,  0.04545455,  0.04292929,  0.04040404,  0.03787879,\n",
       "         0.03535354,  0.03282828,  0.03030303,  0.02777778,  0.02525253,\n",
       "         0.02272727,  0.02020202,  0.01767677,  0.01515152,  0.01262626,\n",
       "         0.01010101,  0.00757576,  0.00505051,  0.00252525,  0.        ]),\n",
       " array([   0.        ,   -2.52525253,   -5.05050505,   -7.57575758,\n",
       "         -10.1010101 ,  -12.62626263,  -15.15151515,  -17.67676768,\n",
       "         -20.2020202 ,  -22.72727273,  -25.25252525,  -27.77777778,\n",
       "         -30.3030303 ,  -32.82828283,  -35.35353535,  -37.87878788,\n",
       "         -40.4040404 ,  -42.92929293,  -45.45454545,  -47.97979798,\n",
       "         -50.50505051,  -53.03030303,  -55.55555556,  -58.08080808,\n",
       "         -60.60606061,  -63.13131313,  -65.65656566,  -68.18181818,\n",
       "         -70.70707071,  -73.23232323,  -75.75757576,  -78.28282828,\n",
       "         -80.80808081,  -83.33333333,  -85.85858586,  -88.38383838,\n",
       "         -90.90909091,  -93.43434343,  -95.95959596,  -98.48484848,\n",
       "        -101.01010101, -103.53535354, -106.06060606, -108.58585859,\n",
       "        -111.11111111, -113.63636364, -116.16161616, -118.68686869,\n",
       "        -121.21212121, -123.73737374, -126.26262626, -128.78787879,\n",
       "        -131.31313131, -133.83838384, -136.36363636, -138.88888889,\n",
       "        -141.41414141, -143.93939394, -146.46464646, -148.98989899,\n",
       "        -151.51515152, -154.04040404, -156.56565657, -159.09090909,\n",
       "        -161.61616162, -164.14141414, -166.66666667, -169.19191919,\n",
       "        -171.71717172, -174.24242424, -176.76767677, -179.29292929,\n",
       "        -181.81818182, -184.34343434, -186.86868687, -189.39393939,\n",
       "        -191.91919192, -194.44444444, -196.96969697, -199.49494949,\n",
       "        -202.02020202, -204.54545455, -207.07070707, -209.5959596 ,\n",
       "        -212.12121212, -214.64646465, -217.17171717, -219.6969697 ,\n",
       "        -222.22222222, -224.74747475, -227.27272727, -229.7979798 ,\n",
       "        -232.32323232, -234.84848485, -237.37373737, -239.8989899 ,\n",
       "        -242.42424242, -244.94949495, -247.47474747, -250.        ]))"
      ]
     },
     "execution_count": 386,
     "metadata": {},
     "output_type": "execute_result"
    }
   ],
   "source": [
    "# Check the solution\n",
    "dphi = np.gradient(phis,-dz)\n",
    "dff = (cns-U)**2 * dphi\n",
    "\n",
    "dphi2 = np.gradient(dff,-dz)\n",
    "\n",
    "np.linalg.norm(dphi2 * N2*phis)\n",
    "\n",
    "U, z\n",
    "\n"
   ]
  },
  {
   "cell_type": "code",
   "execution_count": 348,
   "metadata": {},
   "outputs": [
    {
     "data": {
      "image/png": "[encoded data removed]",
      "text/plain": [
       "<matplotlib.figure.Figure at 0x7f7c2c6c6f90>"
      ]
     },
     "metadata": {},
     "output_type": "display_data"
    }
   ],
   "source": [
    "# Hazel, 1972 - Mixing layer model\n",
    "\n",
    "Nz = 100\n",
    "z = np.linspace(-4,4, Nz)\n",
    "\n",
    "U = np.tanh(z)\n",
    "\n",
    "N2 = 1/np.cosh(z)**2 # sech^2(z)\n",
    "\n",
    "mode=0\n",
    "\n",
    "plt.figure()\n",
    "plt.subplot(121)\n",
    "plt.plot(U,z)\n",
    "plt.subplot(122)\n",
    "plt.plot(N2,z)\n",
    "plt.show()"
   ]
  },
  {
   "cell_type": "code",
   "execution_count": 281,
   "metadata": {},
   "outputs": [
    {
     "data": {
      "image/png": "[encoded data removed]",
      "text/plain": [
       "<matplotlib.figure.Figure at 0x7f7c2bfbc510>"
      ]
     },
     "metadata": {},
     "output_type": "display_data"
    }
   ],
   "source": [
    "phi, cn = tgsolve(z,U,N2,mode)\n",
    "\n",
    "plt.figure(figsize=(4,7))\n",
    "plt.plot(phi,z)\n",
    "plt.show()\n"
   ]
  },
  {
   "cell_type": "code",
   "execution_count": 213,
   "metadata": {},
   "outputs": [
    {
     "data": {
      "text/plain": [
       "54.674614432443157"
      ]
     },
     "execution_count": 213,
     "metadata": {},
     "output_type": "execute_result"
    }
   ],
   "source": [
    "phin, cn = iwave_modes(N2, dz)\n",
    "cn[0]"
   ]
  },
  {
   "cell_type": "code",
   "execution_count": null,
   "metadata": {
    "collapsed": true
   },
   "outputs": [],
   "source": []
  }
 ],
 "metadata": {
  "kernelspec": {
   "display_name": "Python 2",
   "language": "python",
   "name": "python2"
  },
  "language_info": {
   "codemirror_mode": {
    "name": "ipython",
    "version": 2
   },
   "file_extension": ".py",
   "mimetype": "text/x-python",
   "name": "python",
   "nbconvert_exporter": "python",
   "pygments_lexer": "ipython2",
   "version": "2.7.13"
  }
 },
 "nbformat": 4,
 "nbformat_minor": 2
}
