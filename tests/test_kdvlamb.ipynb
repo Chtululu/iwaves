{
 "cells": [
  {
   "cell_type": "markdown",
   "metadata": {},
   "source": [
    "# Numerical KDV Solver\n",
    "\n",
    "Based on test cases in Lamb and Yan, 1996, JPO.\n",
    "\n",
    "*Dissipation term is not in their paper\n",
    "\n",
    "\n",
    "$$\n",
    "\\frac{\\partial B}{\\partial t} = -c \\frac{\\partial B}{\\partial x} + \n",
    "2 \\epsilon r_{10} c B \\frac{\\partial B}{\\partial x} + \\mu r_{01} \\frac{\\partial^3 B}{\\partial x^3}\n",
    "+ \\left(\\nu_H \\frac{\\partial^2 B}{dx^2}\\right)\n",
    "$$\n",
    "\n",
    "where \n",
    "\n",
    "$$\n",
    "\\epsilon = \\frac{a_0}{H}\n",
    "$$\n",
    "\n",
    "$$\n",
    "\\mu = \\frac{H^2}{L_w^2}\n",
    "$$\n",
    "\n",
    "$$\n",
    "r_{01} = -\\frac{c \\int^1_0 \\phi^2\\ dz}{ 2 \\int^1_0 \\phi_z^2\\ dz}\n",
    "$$\n",
    "\n",
    "$$\n",
    "r_{10} = \\frac{ \\int^1_0 (N_z)^2 \\phi^3 \\ dz}{ 2c^2 \\int_0^1 \\phi_z^2 \\ dz}\n",
    "$$\n",
    "\n",
    "original defintion\n",
    "\n",
    "$$\n",
    "\\left( r_{1,0} = -\\frac{ 3\\int^1_0 \\phi^3 \\ dz}{ 4 \\int_0^1 \\phi_z^2 \\ dz} \\right)\n",
    "$$\n",
    "\n",
    "$\\phi(z)$ and $c$ are from eigenvector/value solutions to\n",
    "\n",
    "$$\n",
    "\\frac{d^2\\phi}{dz^2} + \\frac{N^2}{c^2}\\phi = 0\n",
    "$$\n",
    "\n",
    "\n",
    "## Discretized KdV equation\n",
    "\n",
    "2nd order accurate finite-difference in space and time, explicit (no matrix solve!)\n",
    "\n",
    "$$\n",
    "\\frac{ B_i^{n+1} - B_i^{n-1} }{2 \\Delta t} = -c \\frac{ B_{i+1}^{n} - B_{i-1}^{n} }{2 \\Delta x} +\n",
    "2 \\epsilon r_{10} c B_i^n \\frac{ B_{i+1}^{n} - B_{i-1}^{n} }{2 \\Delta x} +\n",
    "\\mu r_{01}  \\frac{0.5 B_{i+2}^n - B_{i+1}^n + B_{i-1}^n - 0.5 B_{i-2}^n}{\\Delta x^3} +\n",
    "\\left( \\nu_H \\frac{0.5 B_{i+1}^n - B_{i}^n + 0.5 B_{i-1}^n}{\\Delta x^2}\\right)\n",
    "$$\n",
    "\n",
    "This goes into a matrix problem\n",
    "\n",
    "$$\n",
    "\\mathbf{A} \\mathbf{x} =  \\mathbf{b} \n",
    "$$\n",
    "\n",
    "Where the matrix $\\mathbf{A}$ has five diagonals containing the finite-difference terms, $\\mathbf{x}$ and $\\mathbf{b}$ contains the amplitude vector at the old and new time steps, respectively. The upper and lower diagonal also contain the amplitude because of the nonlinear term.\n",
    "\n",
    "## Streamfunction\n",
    "\n",
    "The streamfunction, $\\psi$, is defined from\n",
    "\n",
    "$$\n",
    "u = \\psi_z \\\\\n",
    "w = -\\psi_x\n",
    "$$\n",
    "\n",
    "To first order (i.e., to powers of $\\epsilon^1$ and $\\mu^1$) the streamfunction is\n",
    "\n",
    "$$\n",
    "\\psi \\approx B(x,t)c\\phi(z) + \\epsilon B^2(x,t) c^2 \\phi^{1,0}(z) + \\mu B_{xx}(x,t) c \\phi^{0,1}(z)\n",
    "$$\n",
    "\n",
    "where the structure functions, $\\phi^{1,0}$ and $\\phi^{0,1}$, share the same power as $\\epsilon$ and $\\mu$, respectively, i.e., $\\phi^{i,j} \\sim \\mathcal{O}(\\epsilon^i \\mu^j)$. These are found from solutions to the boundary-value problems\n",
    "\n",
    "\n",
    "$$\n",
    "\\frac{d^2\\phi^{1,0}}{dz^2} + \\frac{N^2}{c^2}\\phi^{1,0} = \n",
    "-2r_{10} \\frac{N^2}{c^3}\\phi + \\frac{1}{c^3} \\frac{d}{dz}\\left( N^2\\right) \\phi\n",
    "$$\n",
    "and\n",
    "$$\n",
    "\\frac{d^2\\phi^{0,1}}{dz^2} + \\frac{N^2}{c^2}\\phi^{0,1} = \n",
    "-2r_{01} \\frac{N^2}{c^3}\\phi - \\phi\n",
    "$$\n",
    "\n",
    "with boundary conditions\n",
    "$\\phi = \\phi^{0,1} = \\phi^{1,0} = 0$ at $z = 0,\\ -H$.\n",
    "\n",
    "## Buoyancy\n",
    "\n",
    "Buoyancy, $b=g\\rho'$, is given by\n",
    "\n",
    "$$\n",
    "b \\approx B(x,t)cN^2(z)\\phi(z) + \\epsilon B^2(x,t) c^2 D^{1,0}(z) + \\mu B_{xx}(x,t) c D^{0,1}(z)\n",
    "$$\n",
    "\n",
    "The structure functions, $D^{1,0}(z)$ and $D^{0,1}(z)$, are given by\n",
    "\n",
    "$$\n",
    "D^{1,0} = \\frac{N^2}{c}\\phi^{1,0} + r_{10} \\frac{N^2}{c^2}\\phi\n",
    "$$\n",
    "\n",
    "and \n",
    "\n",
    "$$\n",
    "D^{0,1} = \\frac{N^2}{c}\\phi^{0,1} + r_{0,1}\\frac{N^2}{c^2} \\phi - \\frac{1}{2c^2}\\frac{d}{dz}\\left( N^2\\right) \\phi .\n",
    "$$"
   ]
  },
  {
   "cell_type": "code",
   "execution_count": 1,
   "metadata": {
    "collapsed": false
   },
   "outputs": [],
   "source": [
    "import numpy as np\n",
    "import matplotlib.pyplot as plt\n",
    "import iwaves.utils.isw as kdv\n",
    "from iwaves.kdv.kdv import  KdV\n",
    "from iwaves.kdv.kdvimex import  KdVImEx as KdV\n",
    "\n",
    "import pdb\n",
    "%matplotlib inline"
   ]
  },
  {
   "cell_type": "code",
   "execution_count": 2,
   "metadata": {
    "collapsed": true
   },
   "outputs": [],
   "source": [
    "###########\n",
    "# Stratification and wave functions\n",
    "def ideal_rho(z, drho, dp, L):\n",
    "    #return drho/2 - drho/2*np.tanh(dp + dp*z/L )\n",
    "    return drho/2 * (1 - np.tanh(dp + dp*z/L ) )\n",
    "\n",
    "def lamb_rho(z):\n",
    "    Z = z+300. # Height above the bottom\n",
    "    return 1027.31 - 3.3955*np.exp((Z-300)/50.0 )\n",
    "\n",
    "def lamb_drho(z):\n",
    "    Z = z+300. # Height above the bottom\n",
    "    return  - 3.3955/50.*np.exp((Z-300)/50.0 )\n",
    "\n",
    "\n",
    "def lamb_wave(x, a0,  Lw, x0=0.):\n",
    "    xl = -20000.\n",
    "    dr = Lw/2\n",
    "    dl = Lw/2\n",
    "    return -a0*0.25*(1+np.tanh( (x-xl)/dl))\\\n",
    "        *(1-np.tanh( (x)/dr) )\n"
   ]
  },
  {
   "cell_type": "code",
   "execution_count": 3,
   "metadata": {
    "collapsed": true
   },
   "outputs": [],
   "source": [
    "##########\n",
    "# Inputs\n",
    "H = 300.\n",
    "Nz = 100\n",
    "#Nx = 16667 # 18 and 9 m\n",
    "Nx = 15000\n",
    "z = np.linspace(0, -H, Nz)\n",
    "#rhoz = ideal_rho(z, 3.1, 3.2, 160.) + 20.6 # Winter\n",
    "#rhoz = ideal_rho(z, 3.5, 1.8, 150.) + 20.4 # Summer\n",
    "rhoz = lamb_rho(z)\n",
    "\n",
    "mode = 0\n",
    "a0 = 10.\n",
    "Lw = 200*a0\n",
    "\n",
    "U0 = 0.942\n",
    "\n",
    "nondim = False\n",
    "nonlinear = True\n",
    "nonhydrostatic= True\n",
    "ekdv=True\n",
    "timesolver = 'AB2'\n",
    "\n",
    "#Cmax=0.04 # Explicit solver\n",
    "Cmax = 0.8 # IMEX solver\n",
    "dt = None\n",
    "runtime = 86400.\n",
    "#runtime = 1.\n",
    "#runtime = 5360*5\n",
    "#runtime = 8000*0.1\n",
    "###########"
   ]
  },
  {
   "cell_type": "code",
   "execution_count": 4,
   "metadata": {
    "collapsed": false
   },
   "outputs": [
    {
     "data": {
      "text/plain": [
       "[<matplotlib.lines.Line2D at 0x7f39fc0fb2d0>]"
      ]
     },
     "execution_count": 4,
     "metadata": {},
     "output_type": "execute_result"
    },
    {
     "data": {
      "image/png": "[encoded data removed]",
      "text/plain": [
       "<matplotlib.figure.Figure at 0x7f39fc1c4bd0>"
      ]
     },
     "metadata": {},
     "output_type": "display_data"
    }
   ],
   "source": [
    "plt.plot(rhoz,z)"
   ]
  },
  {
   "cell_type": "code",
   "execution_count": 5,
   "metadata": {
    "collapsed": false
   },
   "outputs": [
    {
     "name": "stdout",
     "output_type": "stream",
     "text": [
      "Parameters:\n",
      " c1 = 0.842505\n",
      " epsilon = 1.000000\n",
      " mu = 1.000000\n",
      " r01 = -2913.391147\n",
      " r10 = 0.008306\n",
      " r20 = -0.0109453\n",
      "\n",
      "Lamb values:\n",
      " r01 = -2.91e3\n",
      " r10 = 8.31e-3\n",
      " r20 = 2.35e-5\n"
     ]
    }
   ],
   "source": [
    "###\n",
    "# Intitialise the class\n",
    "if nondim:\n",
    "    runtime = runtime/Lw\n",
    "\n",
    "mykdv = KdV(rhoz, z, mode=mode, a0=a0, Lw=Lw,\\\n",
    "        Cmax=Cmax, Nx=Nx, nondim=nondim,\n",
    "        nonlinear=nonlinear,\\\n",
    "        nonhydrostatic=nonhydrostatic,\\\n",
    "        ekdv=False,\\\n",
    "        wavefunc=lamb_wave,\\\n",
    "        timesolver=timesolver,\\\n",
    "        dt=dt)\n",
    "\n",
    "myekdv = KdV(rhoz, z, mode=mode, a0=a0, Lw=Lw,\\\n",
    "        Cmax=Cmax, Nx=Nx, nondim=nondim,\n",
    "        nonlinear=nonlinear,\\\n",
    "        nonhydrostatic=nonhydrostatic,\\\n",
    "        ekdv=True,\\\n",
    "        wavefunc=lamb_wave,\\\n",
    "        timesolver=timesolver,\\\n",
    "        dt=dt)\n",
    "\n",
    "mykdv.print_params()\n",
    "\n",
    "print 'Lamb values:\\n r01 = -2.91e3\\n r10 = 8.31e-3\\n r20 = 2.35e-5'"
   ]
  },
  {
   "cell_type": "code",
   "execution_count": 6,
   "metadata": {
    "collapsed": false
   },
   "outputs": [
    {
     "data": {
      "text/plain": [
       "<matplotlib.text.Text at 0x7f39fc031c50>"
      ]
     },
     "execution_count": 6,
     "metadata": {},
     "output_type": "execute_result"
    },
    {
     "data": {
      "image/png": "[encoded data removed]",
      "text/plain": [
       "<matplotlib.figure.Figure at 0x7f39fc195e10>"
      ]
     },
     "metadata": {},
     "output_type": "display_data"
    }
   ],
   "source": [
    "xoffset = 0\n",
    "########\n",
    "# Plot the amplitude function\n",
    "plt.figure(figsize=(12,6))\n",
    "ax1 = plt.subplot(211)\n",
    "plt.plot(mykdv.x - xoffset, mykdv.B, color='k')\n",
    "#plt.plot(mykdv.x - mykdv.c1*runtime, mykdv.B)\n",
    "#plt.plot(mykdv2.x, mykdv2.B, 'r')\n",
    "#plt.xlim(-1.1e4, 0.7e4)\n",
    "plt.ylim(-50, 0)\n",
    "#plt.xlim(8e4, 10e4)\n",
    "#plt.xlim(4*Lw, 8*Lw)\n",
    "plt.ylabel('B(m)')\n",
    "\n",
    "\n",
    "#ax2 = plt.subplot(212,sharex=ax1)\n",
    "#plt.plot(mykdv.x - xoffset, u[:,0], color='k')\n",
    "#plt.ylabel('u [m/s]')\n",
    "#plt.xlim(-1.1e4, 0.7e4)\n",
    "#plt.ylim(0,0.5)"
   ]
  },
  {
   "cell_type": "code",
   "execution_count": 7,
   "metadata": {
    "collapsed": false
   },
   "outputs": [
    {
     "data": {
      "text/plain": [
       "<matplotlib.text.Text at 0x7f39f46cc710>"
      ]
     },
     "execution_count": 7,
     "metadata": {},
     "output_type": "execute_result"
    },
    {
     "data": {
      "image/png": "[encoded data removed]",
      "text/plain": [
       "<matplotlib.figure.Figure at 0x7f39f478c5d0>"
      ]
     },
     "metadata": {},
     "output_type": "display_data"
    }
   ],
   "source": [
    "#####\n",
    "# Plot the density profile\n",
    "plt.figure(figsize=(6,8))\n",
    "ax=plt.subplot(111)\n",
    "plt.plot( mykdv.rhoz, mykdv.z)\n",
    "plt.xlabel(r'$\\rho(z)$')\n",
    "\n",
    "ax2=ax.twiny()\n",
    "ax2.plot(mykdv.N2 , mykdv.z,'k')\n",
    "plt.xlabel('$N^2(z)$')\n"
   ]
  },
  {
   "cell_type": "code",
   "execution_count": 8,
   "metadata": {
    "collapsed": false
   },
   "outputs": [
    {
     "data": {
      "text/plain": [
       "<matplotlib.text.Text at 0x7f39f452c110>"
      ]
     },
     "execution_count": 8,
     "metadata": {},
     "output_type": "execute_result"
    },
    {
     "data": {
      "image/png": "[encoded data removed]",
      "text/plain": [
       "<matplotlib.figure.Figure at 0x7f39f4614d90>"
      ]
     },
     "metadata": {},
     "output_type": "display_data"
    }
   ],
   "source": [
    "#######\n",
    "# Plot the eigenfunction (Fig 4 in LY96)\n",
    "dphi = np.gradient(mykdv.phi_1, -mykdv.dz_s)\n",
    "\n",
    "plt.figure(figsize=(6,8))\n",
    "ax=plt.subplot(111)\n",
    "plt.plot( mykdv.phi_1, mykdv.z,'0.5')\n",
    "plt.xlabel(r'$\\phi_1(z)$')\n",
    "\n",
    "ax2=ax.twiny()\n",
    "ax2.plot(dphi , mykdv.z,'k')\n",
    "ax2.plot([0,0],[-H,0],'k--')\n",
    "plt.xlabel('$ d \\phi_1 / dz$')\n"
   ]
  },
  {
   "cell_type": "code",
   "execution_count": 9,
   "metadata": {
    "collapsed": false
   },
   "outputs": [],
   "source": [
    "####\n",
    "# Test out the nonlinear correction term solution method\n",
    "from scipy import linalg\n",
    "from scipy.optimize import least_squares\n",
    "\n",
    "def calc_r01(phi, c, dz):\n",
    "    phi_z = np.gradient(phi, dz)\n",
    "    num = -c*np.trapz( phi**2., dx=dz)\n",
    "    den = 2*np.trapz( phi_z**2., dx=dz)\n",
    "    #num = -c*np.sum( phi**2. * dz)\n",
    "    #den = 2*np.sum( phi_z**2. * dz)\n",
    "\n",
    "    return num/den\n",
    "\n",
    "def calc_phi01_rhs(phi, c, N2, dz):\n",
    "    r_01 = calc_r01(phi, c, dz)        \n",
    "\n",
    "    RHS = -2*r_01*N2/c**3.*phi - phi\n",
    "\n",
    "    return RHS\n",
    "\n",
    "\n",
    "def calc_D01(phi, c, N2, dz):\n",
    "    \"\"\"\n",
    "    Calculates the first order nonlinear term for buoyancy\n",
    "    \"\"\"\n",
    "    \n",
    "    r_01 = calc_r01(phi, c, dz) \n",
    "    \n",
    "    phi01rhs = calc_phi01_rhs(phi, c, N2, dz)\n",
    "    phi01 = solve_phi_bvp(phi01rhs, N2, c, dz)\n",
    "    \n",
    "    D01 = N2/c*phi01 + r_01*N2/c**2.*phi \n",
    "\n",
    "    return D01#/N2\n",
    "\n",
    "def calc_phi01(phi, c, N2, dz):\n",
    "    \"\"\"\n",
    "    Calculates the first order nonlinear term for buoyancy\n",
    "    \"\"\"\n",
    "    \n",
    "    r_01 = calc_r01(phi, c, dz) \n",
    "    \n",
    "    phi01rhs = calc_phi01_rhs(phi, c, N2, dz)\n",
    "    #phi01 = solve_phi_bvp(phi01rhs, N2, c, dz)\n",
    "    \n",
    "    #res_1 = least_squares(fun, phi*-10000., gtol=1e-10,\\\n",
    "    #            args=(phi01rhs, N2, c, dz))\n",
    "    #return res_1\n",
    "\n",
    "    # Solve the homogeneous problem firts\n",
    "    u0 = 1*phi\n",
    "    idx= np.argwhere(phi==1.)[0][0]\n",
    "    u0[idx] = 0.\n",
    "    \n",
    "    res_1 = least_squares(fun, u0, gtol=1e-10,\\\n",
    "                args=(phi01rhs, N2, c, dz), method='trf')\n",
    "    \n",
    "    #res_11 = least_squares(fun, -res_1['x']*1000, gtol=1e-10,\\\n",
    "    #            args=(phi01rhs, N2, c, dz), method='trf')\n",
    "    return res_1\n",
    "\n",
    "def calc_phi01_old(phi, c, N2, dz):\n",
    "    \"\"\"\n",
    "    Calculates the first order nonlinear term for buoyancy\n",
    "    \"\"\"\n",
    "    \n",
    "    r_01 = calc_r01(phi, c, dz) \n",
    "    \n",
    "    phi01rhs = calc_phi01_rhs(phi, c, N2, dz)\n",
    "    phi01 = solve_phi_bvp(phi01rhs, N2, c, dz)\n",
    "    return phi01\n",
    "    \n",
    "def solve_phi_bvp(B, N2, c, dz):\n",
    "    \"\"\"\n",
    "    Generic solver for the higher-order vertical structure\n",
    "    functions\n",
    "    \"\"\"\n",
    "\n",
    "    nz = B.shape[0] \n",
    "    dz2 = 1/dz**2\n",
    "    \n",
    "    ### Construct the LHS matrix, A \n",
    "    # (use a dense matrix for now)\n",
    "    A = np.diag(dz2*np.ones((nz-1)),-1) +\\\n",
    "        np.diag(-2*dz2*np.ones((nz,)) +\\\n",
    "        N2/c**2*np.ones((nz,)) ,0) + \\\n",
    "        np.diag(dz2*np.ones((nz-1)),1)\n",
    "\n",
    "    # BC's\n",
    "    eps = 1e-10\n",
    "    A[0,0] = eps\n",
    "    A[0,1] = eps\n",
    "    A[-1,-1] = eps\n",
    "    A[-1,-2] = eps\n",
    "    #B[0] = eps\n",
    "    #B[-1] = eps\n",
    "\n",
    "    return linalg.solve(A, B)\n",
    "\n",
    "####\n",
    "# \n",
    "def fun(phi0, B, N2, c, dz):\n",
    "    \"\"\"\n",
    "    Nonline\n",
    "    \"\"\"\n",
    "\n",
    "    nz = B.shape[0] \n",
    "    dz2 = 1/dz**2\n",
    "    \n",
    "    ### Construct the LHS matrix, A \n",
    "    # (use a dense matrix for now)\n",
    "    #A = np.diag(dz2*np.ones((nz-1)),-1) +\\\n",
    "    #    np.diag(-2*dz2*np.ones((nz,)) +\\\n",
    "    #    N2/c**2*np.ones((nz,)) ,0) + \\\n",
    "    #    np.diag(dz2*np.ones((nz-1)),1)\n",
    "        \n",
    "    A = np.diag(dz2*np.ones((nz-1)),-1) +\\\n",
    "        np.diag(-2*dz2*np.ones((nz,)),0) +\\\n",
    "        np.diag(dz2*np.ones((nz-1)),1)\n",
    "\n",
    "    # BC's\n",
    "    eps = 0\n",
    "    A[0,0] = eps\n",
    "    #A[0,1] = eps\n",
    "    A[-1,-1] = eps\n",
    "    #A[-1,-2] = eps\n",
    "    \n",
    "    B[0] = eps\n",
    "    B[-1] = eps\n",
    "    \n",
    "    # Remove the RHS\n",
    "    #A -= np.diag(B,0)\n",
    "\n",
    "    return A.dot(phi0) + N2/c**2.*phi0 - B\n",
    "\n"
   ]
  },
  {
   "cell_type": "code",
   "execution_count": 10,
   "metadata": {
    "collapsed": false
   },
   "outputs": [
    {
     "data": {
      "text/plain": [
       "(-8000, 6000)"
      ]
     },
     "execution_count": 10,
     "metadata": {},
     "output_type": "execute_result"
    },
    {
     "data": {
      "image/png": "[encoded data removed]",
      "text/plain": [
       "<matplotlib.figure.Figure at 0x7f39f466b3d0>"
      ]
     },
     "metadata": {},
     "output_type": "display_data"
    }
   ],
   "source": [
    "data = calc_phi01(mykdv.phi_1, mykdv.c1, mykdv.N2, mykdv.dz_s)\n",
    "\n",
    "phi01_old = calc_phi01_old(mykdv.phi_1, mykdv.c1, mykdv.N2, mykdv.dz_s)\n",
    "\n",
    "#print data\n",
    "phi01 = data['x']\n",
    "\n",
    "x = plt.subplot(111)\n",
    "plt.plot(mykdv.z, phi01,'k-')\n",
    "plt.plot(mykdv.z, phi01_old,'k--')\n",
    "plt.plot([-H,0],[0,0],'k:')\n",
    "plt.ylim(-8000,6000)"
   ]
  },
  {
   "cell_type": "code",
   "execution_count": 11,
   "metadata": {
    "collapsed": false
   },
   "outputs": [
    {
     "data": {
      "text/plain": [
       "(-12000.0, 4000.0)"
      ]
     },
     "execution_count": 11,
     "metadata": {},
     "output_type": "execute_result"
    },
    {
     "data": {
      "image/png": "[encoded data removed]",
      "text/plain": [
       "<matplotlib.figure.Figure at 0x7f39f4622250>"
      ]
     },
     "metadata": {},
     "output_type": "display_data"
    }
   ],
   "source": [
    "## Calculate nonlinear structure functions phi01, phi10\n",
    "phi01, phi10 = mykdv.calc_nonlinstructure()\n",
    "\n",
    "D01 = kdv.calc_D01(mykdv.phi_1, mykdv.c1, mykdv.N2, mykdv.dz_s)/mykdv.N2\n",
    "D10 = kdv.calc_D10(mykdv.phi_1, mykdv.c1, mykdv.N2, mykdv.dz_s)/mykdv.N2\n",
    "\n",
    "plt.figure(figsize=(16,8))\n",
    "ax = plt.subplot(221)\n",
    "plt.plot(mykdv.z, phi10,'k--')\n",
    "plt.plot([-H,0],[0,0],'k:')\n",
    "plt.ylabel('$\\phi^{1,0}$')\n",
    "plt.ylim(-0.01, 0.002)\n",
    "\n",
    "ax = plt.subplot(222)\n",
    "plt.plot(mykdv.z, D10,'k--')\n",
    "plt.plot([-H,0],[0,0],'k:')\n",
    "plt.ylabel('$D^{1,0}$')\n",
    "plt.ylim(-0.02, 0.005)\n",
    "\n",
    "ax = plt.subplot(223)\n",
    "plt.plot(mykdv.z, phi01,'k--')\n",
    "plt.plot([-H,0],[0,0],'k:')\n",
    "plt.ylabel('$\\phi^{0,1}$')\n",
    "plt.ylim(-8000,6000)\n",
    "\n",
    "ax = plt.subplot(224)\n",
    "plt.plot(mykdv.z, D01,'k--')\n",
    "plt.plot([-H,0],[0,0],'k:')\n",
    "plt.ylabel('$D^{0,1}$')\n",
    "plt.ylim(-1.2e4, 4e3)"
   ]
  },
  {
   "cell_type": "code",
   "execution_count": 12,
   "metadata": {
    "collapsed": false
   },
   "outputs": [
    {
     "name": "stdout",
     "output_type": "stream",
     "text": [
      "4549 18.9922500178\n",
      "0.0 % complete...\n",
      "4.9 % complete...\n",
      "9.9 % complete...\n",
      "14.8 % complete...\n",
      "19.8 % complete...\n",
      "24.7 % complete...\n",
      "29.7 % complete...\n",
      "34.6 % complete...\n",
      "39.6 % complete...\n",
      "44.5 % complete...\n",
      "49.5 % complete...\n",
      "54.4 % complete...\n",
      "59.4 % complete...\n",
      "64.3 % complete...\n",
      "69.2 % complete...\n",
      "74.2 % complete...\n",
      "79.1 % complete...\n",
      "84.1 % complete...\n",
      "89.0 % complete...\n",
      "94.0 % complete...\n",
      "98.9 % complete...\n"
     ]
    }
   ],
   "source": [
    "##########\n",
    "# run the model\n",
    "nsteps = int(runtime//mykdv.dt_s)\n",
    "\n",
    "print nsteps, mykdv.dt_s\n",
    "\n",
    "for ii in range(nsteps):\n",
    "    point = nsteps/100\n",
    "    if(ii % (5 * point) == 0):\n",
    "        print '%3.1f %% complete...'%(float(ii)/nsteps*100)\n",
    "    if mykdv.solve_step() != 0:\n",
    "        print 'Blowing up at step: %d'%ii\n",
    "        break\n"
   ]
  },
  {
   "cell_type": "code",
   "execution_count": 13,
   "metadata": {
    "collapsed": false
   },
   "outputs": [
    {
     "name": "stdout",
     "output_type": "stream",
     "text": [
      "4549 18.9922500178\n",
      "0.0 % complete...\n"
     ]
    },
    {
     "name": "stderr",
     "output_type": "stream",
     "text": [
      "/home/suntans/code/iwaves/kdv/kdvimex.py:164: RuntimeWarning: overflow encountered in power\n",
      "  An2 = 0.25*np.power(An, 2.)\n",
      "/home/suntans/code/iwaves/kdv/kdvimex.py:96: RuntimeWarning: overflow encountered in multiply\n",
      "  RHS += cff3*M_n.dot(self.B)\n"
     ]
    },
    {
     "ename": "ValueError",
     "evalue": "array must not contain infs or NaNs",
     "output_type": "error",
     "traceback": [
      "\u001b[0;31m---------------------------------------------------------------------------\u001b[0m",
      "\u001b[0;31mValueError\u001b[0m                                Traceback (most recent call last)",
      "\u001b[0;32m<ipython-input-13-9019ef51f27b>\u001b[0m in \u001b[0;36m<module>\u001b[0;34m()\u001b[0m\n\u001b[1;32m      9\u001b[0m     \u001b[0;32mif\u001b[0m\u001b[0;34m(\u001b[0m\u001b[0mii\u001b[0m \u001b[0;34m%\u001b[0m \u001b[0;34m(\u001b[0m\u001b[0;36m5\u001b[0m \u001b[0;34m*\u001b[0m \u001b[0mpoint\u001b[0m\u001b[0;34m)\u001b[0m \u001b[0;34m==\u001b[0m \u001b[0;36m0\u001b[0m\u001b[0;34m)\u001b[0m\u001b[0;34m:\u001b[0m\u001b[0;34m\u001b[0m\u001b[0m\n\u001b[1;32m     10\u001b[0m         \u001b[0;32mprint\u001b[0m \u001b[0;34m'%3.1f %% complete...'\u001b[0m\u001b[0;34m%\u001b[0m\u001b[0;34m(\u001b[0m\u001b[0mfloat\u001b[0m\u001b[0;34m(\u001b[0m\u001b[0mii\u001b[0m\u001b[0;34m)\u001b[0m\u001b[0;34m/\u001b[0m\u001b[0mnsteps\u001b[0m\u001b[0;34m*\u001b[0m\u001b[0;36m100\u001b[0m\u001b[0;34m)\u001b[0m\u001b[0;34m\u001b[0m\u001b[0m\n\u001b[0;32m---> 11\u001b[0;31m     \u001b[0;32mif\u001b[0m \u001b[0mmyekdv\u001b[0m\u001b[0;34m.\u001b[0m\u001b[0msolve_step\u001b[0m\u001b[0;34m(\u001b[0m\u001b[0;34m)\u001b[0m \u001b[0;34m!=\u001b[0m \u001b[0;36m0\u001b[0m\u001b[0;34m:\u001b[0m\u001b[0;34m\u001b[0m\u001b[0m\n\u001b[0m\u001b[1;32m     12\u001b[0m         \u001b[0;32mprint\u001b[0m \u001b[0;34m'Blowing up at step: %d'\u001b[0m\u001b[0;34m%\u001b[0m\u001b[0mii\u001b[0m\u001b[0;34m\u001b[0m\u001b[0m\n\u001b[1;32m     13\u001b[0m         \u001b[0;32mbreak\u001b[0m\u001b[0;34m\u001b[0m\u001b[0m\n",
      "\u001b[0;32m/home/suntans/code/iwaves/kdv/kdvimex.pyc\u001b[0m in \u001b[0;36msolve_step\u001b[0;34m(self)\u001b[0m\n\u001b[1;32m    108\u001b[0m \u001b[0;34m\u001b[0m\u001b[0m\n\u001b[1;32m    109\u001b[0m         \u001b[0;31m# Use the direct banded matrix solver (faster)\u001b[0m\u001b[0;34m\u001b[0m\u001b[0;34m\u001b[0m\u001b[0m\n\u001b[0;32m--> 110\u001b[0;31m         \u001b[0mself\u001b[0m\u001b[0;34m.\u001b[0m\u001b[0mB_n_p1\u001b[0m\u001b[0;34m[\u001b[0m\u001b[0;34m:\u001b[0m\u001b[0;34m]\u001b[0m \u001b[0;34m=\u001b[0m \u001b[0mla\u001b[0m\u001b[0;34m.\u001b[0m\u001b[0msolve_banded\u001b[0m\u001b[0;34m(\u001b[0m \u001b[0;34m(\u001b[0m\u001b[0;36m2\u001b[0m\u001b[0;34m,\u001b[0m\u001b[0;36m2\u001b[0m\u001b[0;34m)\u001b[0m\u001b[0;34m,\u001b[0m \u001b[0mself\u001b[0m\u001b[0;34m.\u001b[0m\u001b[0mL_lhs\u001b[0m\u001b[0;34m.\u001b[0m\u001b[0mdata\u001b[0m\u001b[0;34m[\u001b[0m\u001b[0;34m:\u001b[0m\u001b[0;34m:\u001b[0m\u001b[0;34m-\u001b[0m\u001b[0;36m1\u001b[0m\u001b[0;34m,\u001b[0m\u001b[0;34m:\u001b[0m\u001b[0;34m]\u001b[0m\u001b[0;34m,\u001b[0m \u001b[0mRHS\u001b[0m\u001b[0;34m)\u001b[0m\u001b[0;34m\u001b[0m\u001b[0m\n\u001b[0m\u001b[1;32m    111\u001b[0m \u001b[0;34m\u001b[0m\u001b[0m\n\u001b[1;32m    112\u001b[0m         \u001b[0;31m# Check solutions\u001b[0m\u001b[0;34m\u001b[0m\u001b[0;34m\u001b[0m\u001b[0m\n",
      "\u001b[0;32m/home/suntans/anaconda/envs/suntans/lib/python2.7/site-packages/scipy/linalg/basic.pyc\u001b[0m in \u001b[0;36msolve_banded\u001b[0;34m(l_and_u, ab, b, overwrite_ab, overwrite_b, debug, check_finite)\u001b[0m\n\u001b[1;32m    352\u001b[0m \u001b[0;34m\u001b[0m\u001b[0m\n\u001b[1;32m    353\u001b[0m     \u001b[0ma1\u001b[0m \u001b[0;34m=\u001b[0m \u001b[0m_asarray_validated\u001b[0m\u001b[0;34m(\u001b[0m\u001b[0mab\u001b[0m\u001b[0;34m,\u001b[0m \u001b[0mcheck_finite\u001b[0m\u001b[0;34m=\u001b[0m\u001b[0mcheck_finite\u001b[0m\u001b[0;34m,\u001b[0m \u001b[0mas_inexact\u001b[0m\u001b[0;34m=\u001b[0m\u001b[0mTrue\u001b[0m\u001b[0;34m)\u001b[0m\u001b[0;34m\u001b[0m\u001b[0m\n\u001b[0;32m--> 354\u001b[0;31m     \u001b[0mb1\u001b[0m \u001b[0;34m=\u001b[0m \u001b[0m_asarray_validated\u001b[0m\u001b[0;34m(\u001b[0m\u001b[0mb\u001b[0m\u001b[0;34m,\u001b[0m \u001b[0mcheck_finite\u001b[0m\u001b[0;34m=\u001b[0m\u001b[0mcheck_finite\u001b[0m\u001b[0;34m,\u001b[0m \u001b[0mas_inexact\u001b[0m\u001b[0;34m=\u001b[0m\u001b[0mTrue\u001b[0m\u001b[0;34m)\u001b[0m\u001b[0;34m\u001b[0m\u001b[0m\n\u001b[0m\u001b[1;32m    355\u001b[0m     \u001b[0;31m# Validate shapes.\u001b[0m\u001b[0;34m\u001b[0m\u001b[0;34m\u001b[0m\u001b[0m\n\u001b[1;32m    356\u001b[0m     \u001b[0;32mif\u001b[0m \u001b[0ma1\u001b[0m\u001b[0;34m.\u001b[0m\u001b[0mshape\u001b[0m\u001b[0;34m[\u001b[0m\u001b[0;34m-\u001b[0m\u001b[0;36m1\u001b[0m\u001b[0;34m]\u001b[0m \u001b[0;34m!=\u001b[0m \u001b[0mb1\u001b[0m\u001b[0;34m.\u001b[0m\u001b[0mshape\u001b[0m\u001b[0;34m[\u001b[0m\u001b[0;36m0\u001b[0m\u001b[0;34m]\u001b[0m\u001b[0;34m:\u001b[0m\u001b[0;34m\u001b[0m\u001b[0m\n",
      "\u001b[0;32m/home/suntans/anaconda/envs/suntans/lib/python2.7/site-packages/scipy/_lib/_util.pyc\u001b[0m in \u001b[0;36m_asarray_validated\u001b[0;34m(a, check_finite, sparse_ok, objects_ok, mask_ok, as_inexact)\u001b[0m\n\u001b[1;32m    236\u001b[0m             \u001b[0;32mraise\u001b[0m \u001b[0mValueError\u001b[0m\u001b[0;34m(\u001b[0m\u001b[0;34m'masked arrays are not supported'\u001b[0m\u001b[0;34m)\u001b[0m\u001b[0;34m\u001b[0m\u001b[0m\n\u001b[1;32m    237\u001b[0m     \u001b[0mtoarray\u001b[0m \u001b[0;34m=\u001b[0m \u001b[0mnp\u001b[0m\u001b[0;34m.\u001b[0m\u001b[0masarray_chkfinite\u001b[0m \u001b[0;32mif\u001b[0m \u001b[0mcheck_finite\u001b[0m \u001b[0;32melse\u001b[0m \u001b[0mnp\u001b[0m\u001b[0;34m.\u001b[0m\u001b[0masarray\u001b[0m\u001b[0;34m\u001b[0m\u001b[0m\n\u001b[0;32m--> 238\u001b[0;31m     \u001b[0ma\u001b[0m \u001b[0;34m=\u001b[0m \u001b[0mtoarray\u001b[0m\u001b[0;34m(\u001b[0m\u001b[0ma\u001b[0m\u001b[0;34m)\u001b[0m\u001b[0;34m\u001b[0m\u001b[0m\n\u001b[0m\u001b[1;32m    239\u001b[0m     \u001b[0;32mif\u001b[0m \u001b[0;32mnot\u001b[0m \u001b[0mobjects_ok\u001b[0m\u001b[0;34m:\u001b[0m\u001b[0;34m\u001b[0m\u001b[0m\n\u001b[1;32m    240\u001b[0m         \u001b[0;32mif\u001b[0m \u001b[0ma\u001b[0m\u001b[0;34m.\u001b[0m\u001b[0mdtype\u001b[0m \u001b[0;32mis\u001b[0m \u001b[0mnp\u001b[0m\u001b[0;34m.\u001b[0m\u001b[0mdtype\u001b[0m\u001b[0;34m(\u001b[0m\u001b[0;34m'O'\u001b[0m\u001b[0;34m)\u001b[0m\u001b[0;34m:\u001b[0m\u001b[0;34m\u001b[0m\u001b[0m\n",
      "\u001b[0;32m/home/suntans/anaconda/envs/suntans/lib/python2.7/site-packages/numpy/lib/function_base.pyc\u001b[0m in \u001b[0;36masarray_chkfinite\u001b[0;34m(a, dtype, order)\u001b[0m\n\u001b[1;32m   1213\u001b[0m     \u001b[0;32mif\u001b[0m \u001b[0ma\u001b[0m\u001b[0;34m.\u001b[0m\u001b[0mdtype\u001b[0m\u001b[0;34m.\u001b[0m\u001b[0mchar\u001b[0m \u001b[0;32min\u001b[0m \u001b[0mtypecodes\u001b[0m\u001b[0;34m[\u001b[0m\u001b[0;34m'AllFloat'\u001b[0m\u001b[0;34m]\u001b[0m \u001b[0;32mand\u001b[0m \u001b[0;32mnot\u001b[0m \u001b[0mnp\u001b[0m\u001b[0;34m.\u001b[0m\u001b[0misfinite\u001b[0m\u001b[0;34m(\u001b[0m\u001b[0ma\u001b[0m\u001b[0;34m)\u001b[0m\u001b[0;34m.\u001b[0m\u001b[0mall\u001b[0m\u001b[0;34m(\u001b[0m\u001b[0;34m)\u001b[0m\u001b[0;34m:\u001b[0m\u001b[0;34m\u001b[0m\u001b[0m\n\u001b[1;32m   1214\u001b[0m         raise ValueError(\n\u001b[0;32m-> 1215\u001b[0;31m             \"array must not contain infs or NaNs\")\n\u001b[0m\u001b[1;32m   1216\u001b[0m     \u001b[0;32mreturn\u001b[0m \u001b[0ma\u001b[0m\u001b[0;34m\u001b[0m\u001b[0m\n\u001b[1;32m   1217\u001b[0m \u001b[0;34m\u001b[0m\u001b[0m\n",
      "\u001b[0;31mValueError\u001b[0m: array must not contain infs or NaNs"
     ]
    }
   ],
   "source": [
    "##########\n",
    "# run the ekdv model\n",
    "nsteps = int(runtime//myekdv.dt_s)\n",
    "\n",
    "print nsteps, myekdv.dt_s\n",
    "\n",
    "for ii in range(nsteps):\n",
    "    point = nsteps/100\n",
    "    if(ii % (5 * point) == 0):\n",
    "        print '%3.1f %% complete...'%(float(ii)/nsteps*100)\n",
    "    if myekdv.solve_step() != 0:\n",
    "        print 'Blowing up at step: %d'%ii\n",
    "        break\n"
   ]
  },
  {
   "cell_type": "code",
   "execution_count": null,
   "metadata": {
    "collapsed": false
   },
   "outputs": [],
   "source": [
    "# Calculate the velocity and density fields\n",
    "rho = mykdv.calc_density(nonlinear=True)\n",
    "u,w = mykdv.calc_velocity(nonlinear=True)\n",
    "#psi = mykdv.calc_streamfunction()"
   ]
  },
  {
   "cell_type": "code",
   "execution_count": null,
   "metadata": {
    "collapsed": false
   },
   "outputs": [],
   "source": [
    "## Comparison with Fig 8 in Lamb and Yan, 1996\n",
    "\n",
    "xoffset = U0*runtime\n",
    "xoffset = mykdv.c1*runtime\n",
    "########\n",
    "# Plot the amplitude function\n",
    "plt.figure(figsize=(12,6))\n",
    "ax1 = plt.subplot(211)\n",
    "plt.plot(mykdv.x - xoffset, mykdv.B, color='k')\n",
    "plt.plot(myekdv.x - xoffset, myekdv.B, color='0.5', ls='--')\n",
    "#plt.plot(mykdv.x - mykdv.c1*runtime, mykdv.B)\n",
    "#plt.plot(mykdv2.x, mykdv2.B, 'r')\n",
    "plt.xlim(-0.8e4, .8e4)\n",
    "plt.xticks(np.arange(-8000,9000,1000))\n",
    "plt.ylim(-30, 0)\n",
    "#plt.xlim(8e4, 10e4)\n",
    "#plt.xlim(4*Lw, 8*Lw)\n",
    "plt.ylabel('B(m)')\n",
    "\n",
    "\n",
    "ax2 = plt.subplot(212,sharex=ax1)\n",
    "plt.plot(mykdv.x - xoffset, u[:,0], color='k')\n",
    "plt.ylabel('u [m/s]')\n",
    "plt.xlim(-0.8e4, 0.8e4)\n",
    "plt.ylim(0,0.5)"
   ]
  },
  {
   "cell_type": "code",
   "execution_count": null,
   "metadata": {
    "collapsed": false
   },
   "outputs": [],
   "source": [
    "### Plot the density\n",
    "clims = [-0.4,0.4]\n",
    "\n",
    "plt.figure(figsize=(12,12))\n",
    "plt.subplot(211)\n",
    "plt.pcolormesh(mykdv.x-xoffset, mykdv.z, u.T, \n",
    "    vmin=clims[0], vmax=clims[1], cmap='RdBu')\n",
    "cb=plt.colorbar(orientation='horizontal')\n",
    "cb.ax.set_title('u [m/s]')\n",
    "plt.contour(mykdv.x-xoffset, mykdv.z, rho.T, np.arange(20.,30.,0.5),\\\n",
    "        colors='k', linewidths=0.5)\n",
    "\n",
    "#plt.xlim(-0.8e4, 0.8e4)\n",
    "plt.xlim(-1.1e4, 0.8e4)\n",
    "\n",
    "plt.subplot(212)\n",
    "plt.pcolormesh(mykdv.x-xoffset, mykdv.z, w.T, \n",
    "     cmap='RdBu')\n",
    "cb=plt.colorbar(orientation='horizontal')\n",
    "cb.ax.set_title('w [m/s]')\n",
    "plt.contour(mykdv.x-xoffset, mykdv.z, rho.T, np.arange(20.,30.,0.5),\\\n",
    "        colors='k', linewidths=0.5)\n",
    "\n",
    "#plt.xlim(-0.8e4, 0.8e4)\n",
    "plt.xlim(-1.1e4, 0.8e4)\n",
    "\n",
    "plt.tight_layout()"
   ]
  },
  {
   "cell_type": "code",
   "execution_count": null,
   "metadata": {
    "collapsed": true
   },
   "outputs": [],
   "source": []
  },
  {
   "cell_type": "code",
   "execution_count": null,
   "metadata": {
    "collapsed": true
   },
   "outputs": [],
   "source": []
  },
  {
   "cell_type": "code",
   "execution_count": null,
   "metadata": {
    "collapsed": true
   },
   "outputs": [],
   "source": []
  },
  {
   "cell_type": "code",
   "execution_count": null,
   "metadata": {
    "collapsed": true
   },
   "outputs": [],
   "source": []
  }
 ],
 "metadata": {
  "kernelspec": {
   "display_name": "Python 2",
   "language": "python",
   "name": "python2"
  },
  "language_info": {
   "codemirror_mode": {
    "name": "ipython",
    "version": 2
   },
   "file_extension": ".py",
   "mimetype": "text/x-python",
   "name": "python",
   "nbconvert_exporter": "python",
   "pygments_lexer": "ipython2",
   "version": "2.7.13"
  }
 },
 "nbformat": 4,
 "nbformat_minor": 0
}
