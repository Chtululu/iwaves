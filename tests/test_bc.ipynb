{
 "cells": [
  {
   "cell_type": "code",
   "execution_count": 1,
   "metadata": {},
   "outputs": [],
   "source": [
    "import numpy as np\n",
    "from scipy import sparse"
   ]
  },
  {
   "cell_type": "code",
   "execution_count": 2,
   "metadata": {},
   "outputs": [
    {
     "data": {
      "text/plain": [
       "matrix([[11, 12,  0],\n",
       "        [21, 22, 23],\n",
       "        [ 0, 32, 33]])"
      ]
     },
     "execution_count": 2,
     "metadata": {},
     "output_type": "execute_result"
    }
   ],
   "source": [
    "# check the ordering for the sparse diagonal arrays\n",
    "diags = [-1,0,1]\n",
    "data = np.array([\n",
    "    [21,32,-1],\n",
    "    [11,22,33],\n",
    "    [-1,12,23]])\n",
    "\n",
    "sparse.spdiags(data, diags,3,3).todense()"
   ]
  },
  {
   "cell_type": "code",
   "execution_count": 6,
   "metadata": {},
   "outputs": [],
   "source": [
    "class KdVBase(object):\n",
    "    \"\"\"\n",
    "    Base class for the KdV solver\n",
    "    \"\"\"\n",
    "    \n",
    "    Nx = 100\n",
    "    dx_s = 100\n",
    "    dt_s = 10.\n",
    "    \n",
    "    c1 = 1.1\n",
    "    r10 = 0.\n",
    "    r01 = 0.\n",
    "    r20 = 0.\n",
    "    \n",
    "    nu_H = 0.\n",
    "    \n",
    "    ekdv = False\n",
    "    nonlinear = True\n",
    "    nonhydrostatic = True\n",
    "    \n",
    "    mu = 1.\n",
    "    epsilon = 1.\n",
    "    \n",
    "    c_im = 0.5 # IMEX only\n",
    "    \n",
    "    def __init__(self, **kwargs):\n",
    "        \"\"\"\n",
    "        \n",
    "        \"\"\"\n",
    "        self.__dict__.update(**kwargs)\n",
    "    \n",
    "    \n",
    "    def build_lhs_matrix(self):\n",
    "        \"\"\"\n",
    "        Build the LHS sparse matrix\n",
    "        \"\"\"\n",
    "\n",
    "        diags1 = self.build_linear_diags()\n",
    "\n",
    "        # Ones down primary diagonal\n",
    "        diags2 = np.zeros_like(diags1)\n",
    "        diags2[2,:] = 1.\n",
    "\n",
    "        cff = self.dt_s*(1+self.c_im)*0.5        \n",
    "        diags =  diags2 - cff*diags1\n",
    "        \n",
    "        #\n",
    "        self.insert_bcs(diags)\n",
    "\n",
    "        # Build the sparse matrix\n",
    "        M = sparse.spdiags(diags, [-2,-1,0,1,2], self.Nx, self.Nx)\n",
    "\n",
    "        return M, diags\n",
    "\n",
    "    def build_nonlinear_diags(self, An):\n",
    "        \"\"\"\n",
    "        Build the nonlinear steepening term\n",
    "        \"\"\"\n",
    "        diags = np.zeros((5,self.Nx))\n",
    "        \n",
    "        # Add the nonlinear terms\n",
    "        cff2 = 2*self.epsilon*self.r10*self.c1\n",
    "        cff3 = 0.5*cff2/self.dx_s\n",
    "        cff3 *= 0.5\n",
    "        if self.nonlinear:\n",
    "            diags[1,:] = diags[1,:] - cff3*An\n",
    "            diags[3,:] = diags[3,:] + cff3*An\n",
    "\n",
    "        # extended KdV\n",
    "        if self.ekdv:\n",
    "            cff4 = 3*self.epsilon**2*self.r20*self.c1**2\n",
    "            cff5 = 0.5*cff4/self.dx_s\n",
    "            An2 = 0.25*np.power(An, 2.)\n",
    "            diags[1,:] = diags[1,:] - cff5*An2\n",
    "            diags[3,:] = diags[3,:] + cff5*An2\n",
    "            \n",
    "        ## Bottom friction parameterization (Holloway et al, 1997)\n",
    "        #if self.k_chezy > 0:\n",
    "        #    cff = -self.k_chezy*self.c1 / self.H**2.\n",
    "        #    diags[2,:] += cff * np.abs(An)\n",
    "        \n",
    "        return diags\n",
    "\n",
    "    def build_nonlinear_matrix(self, An):\n",
    "        \"\"\"\n",
    "        Build the nonlinear steepening term\n",
    "        \"\"\"\n",
    "        diags = self.build_nonlinear_diags(An)\n",
    "        \n",
    "        self.insert_bcs(diags)\n",
    "\n",
    "        # Build the sparse matrix\n",
    "        M = sparse.spdiags(diags, [-2,-1,0,1,2], self.Nx, self.Nx)\n",
    "\n",
    "        return M\n",
    "\n",
    "    def build_linear_diags(self):\n",
    "        \"\"\"\n",
    "        Build the linear matrices\n",
    "        \"\"\"\n",
    "\n",
    "        diags = np.zeros((5,self.Nx))\n",
    "\n",
    "        # pressure terms\n",
    "        diags[1,:] -= (-0.5*self.c1/self.dx_s) * np.ones((self.Nx,)) #i-1\n",
    "        diags[3,:] -= (+0.5*self.c1/self.dx_s) * np.ones((self.Nx,)) #i+1\n",
    "\n",
    "        # Constants\n",
    "        cff1 = 1*self.mu*self.r01\n",
    "        #cff1 = 0\n",
    "        dx3 = 1./np.power(self.dx_s,3.)\n",
    "        \n",
    "        # Dispersion term (2nd order)\n",
    "        if self.nonhydrostatic:\n",
    "            diags[0,:] += -0.5*cff1*dx3 * np.ones((self.Nx,))\n",
    "            diags[1,:] += (+cff1*dx3) * np.ones((self.Nx,))\n",
    "            diags[3,:] += (-cff1*dx3) * np.ones((self.Nx,))\n",
    "            diags[4,:] += 0.5*cff1*dx3 * np.ones((self.Nx,))\n",
    "\n",
    "        # Dispersion term (4th order)\n",
    "        #diags[0,:] += -1/8.*cff1*dx3 * np.ones((self.Nx,))\n",
    "        #diags[1,:] += -1*cff1*dx3 * np.ones((self.Nx,))\n",
    "        #diags[2,:] += 13/8.*cff1*dx3 * np.ones((self.Nx,))\n",
    "        #diags[4,:] += -13/8.*cff1*dx3 * np.ones((self.Nx,))\n",
    "        #diags[5,:] += +1*cff1*dx3 * np.ones((self.Nx,))\n",
    "        #diags[6,:] += +1/8.*cff1*dx3 * np.ones((self.Nx,))\n",
    "\n",
    "        ## Add Laplacian diffusion operator\n",
    "        #nu_H = 1e1\n",
    "        nu_H = self.nu_H\n",
    "        dx2 = 1./np.power(self.dx_s,2.)\n",
    "        # 2nd order\n",
    "        diags[1,:] += 0.5*nu_H*dx2 * np.ones((self.Nx,))\n",
    "        diags[2,:] -= 1*(nu_H*dx2) * np.ones((self.Nx,))\n",
    "        diags[3,:] += 0.5*nu_H*dx2* np.ones((self.Nx,))\n",
    "\n",
    "        ## 4th order\n",
    "        #c1 = -1/12.\n",
    "        #c2 = 16/12.\n",
    "        #c3 = -30/12.\n",
    "        #c4 = 16/12.\n",
    "        #c5 = -1/12.\n",
    "        #diags[0,:] += c1*nu_H*dx2 * np.ones((self.Nx,))\n",
    "        #diags[1,:] += c2*nu_H*dx2 * np.ones((self.Nx,))\n",
    "        #diags[2,:] += c3*nu_H*dx2 * np.ones((self.Nx,))\n",
    "        #diags[3,:] += c4*nu_H*dx2* np.ones((self.Nx,))\n",
    "        #diags[4,:] += c5*nu_H*dx2 * np.ones((self.Nx,))\n",
    "\n",
    "        # Build the sparse matrix\n",
    "        #M = sparse.spdiags(diags, [-2,-1,0,1,2], self.Nx, self.Nx)\n",
    "\n",
    "        return diags\n",
    "    \n",
    "    def insert_bcs(self, diags):\n",
    "        # Set the boundary conditions for the diagonal array\n",
    "        #[-2,-1,0,1,2]\n",
    "        \n",
    "        # top row\n",
    "        diags[3,1] = 0\n",
    "        diags[4,2] = 0\n",
    "        \n",
    "        # second row\n",
    "        diags[1,0] = 0\n",
    "        diags[3,2] = 0\n",
    "        diags[4,3] = 0\n",
    "        \n",
    "        # third row\n",
    "        diags[0,0] = 0\n",
    "        diags[1,1] = 0\n",
    "        diags[3,3] = 0\n",
    "        diags[4,4] = 0\n",
    "        \n",
    "        Nx = self.Nx-1\n",
    "        \n",
    "        # bottom row\n",
    "        #diags[1, Nx-1] = 0\n",
    "        #diags[0,Nx-2] = 0\n",
    "        \n",
    "        # Second bottom row\n",
    "        #diags[1, Nx-2] = 0\n",
    "        #diags[0, Nx-3] = 0\n",
    "        #diags[3, Nx] = 0\n",
    "\n",
    "        return\n"
   ]
  },
  {
   "cell_type": "code",
   "execution_count": 7,
   "metadata": {},
   "outputs": [
    {
     "data": {
      "text/plain": [
       "matrix([[ 1.     ,  0.     ,  0.     ,  0.     ,  0.     ,  0.     ],\n",
       "        [ 0.     ,  1.     ,  0.     ,  0.     ,  0.     ,  0.     ],\n",
       "        [ 0.     ,  0.     ,  1.     ,  0.     ,  0.     ,  0.     ],\n",
       "        [ 0.     ,  0.00375, -0.04875,  1.     ,  0.04875, -0.00375],\n",
       "        [ 0.     ,  0.     ,  0.00375, -0.04875,  1.     ,  0.04875],\n",
       "        [ 0.     ,  0.     ,  0.     ,  0.00375, -0.04875,  1.     ]])"
      ]
     },
     "execution_count": 7,
     "metadata": {},
     "output_type": "execute_result"
    }
   ],
   "source": [
    "kdv = KdVBase(Nx=6, r01=1000., r10 = 1e-3, c1=1.1)\n",
    "lhs, dd = kdv.build_lhs_matrix()\n",
    "lhs.todense()"
   ]
  },
  {
   "cell_type": "code",
   "execution_count": 8,
   "metadata": {},
   "outputs": [
    {
     "data": {
      "text/plain": [
       "matrix([[ 0.0e+00,  0.0e+00,  0.0e+00,  0.0e+00,  0.0e+00,  0.0e+00,\n",
       "          0.0e+00],\n",
       "        [ 0.0e+00,  0.0e+00,  0.0e+00,  0.0e+00,  0.0e+00,  0.0e+00,\n",
       "          0.0e+00],\n",
       "        [ 0.0e+00,  0.0e+00,  0.0e+00,  0.0e+00,  0.0e+00,  0.0e+00,\n",
       "          0.0e+00],\n",
       "        [ 0.0e+00,  0.0e+00, -5.5e-05,  0.0e+00,  5.5e-05,  0.0e+00,\n",
       "          0.0e+00],\n",
       "        [ 0.0e+00,  0.0e+00,  0.0e+00, -5.5e-05,  0.0e+00,  5.5e-05,\n",
       "          0.0e+00],\n",
       "        [ 0.0e+00,  0.0e+00,  0.0e+00,  0.0e+00,  0.0e+00,  0.0e+00,\n",
       "          0.0e+00],\n",
       "        [ 0.0e+00,  0.0e+00,  0.0e+00,  0.0e+00,  0.0e+00,  0.0e+00,\n",
       "          0.0e+00]])"
      ]
     },
     "execution_count": 8,
     "metadata": {},
     "output_type": "execute_result"
    }
   ],
   "source": [
    "A = kdv.build_nonlinear_matrix(10*np.ones(7,))\n",
    "A.todense()"
   ]
  },
  {
   "cell_type": "code",
   "execution_count": 147,
   "metadata": {},
   "outputs": [
    {
     "data": {
      "text/plain": [
       "array([[ 0.00375,  0.00375,  0.     ,  0.     ,  0.00375,  0.00375],\n",
       "       [ 0.     , -0.045  , -0.045  ,  0.     ,  0.     , -0.045  ],\n",
       "       [ 1.     ,  1.     ,  1.     ,  1.     ,  1.     ,  1.     ],\n",
       "       [ 0.045  ,  0.     ,  0.     ,  0.045  ,  0.045  ,  0.     ],\n",
       "       [-0.00375, -0.00375,  0.     ,  0.     , -0.00375, -0.00375]])"
      ]
     },
     "execution_count": 147,
     "metadata": {},
     "output_type": "execute_result"
    }
   ],
   "source": [
    "dd"
   ]
  },
  {
   "cell_type": "code",
   "execution_count": null,
   "metadata": {},
   "outputs": [],
   "source": []
  }
 ],
 "metadata": {
  "kernelspec": {
   "display_name": "Python 3",
   "language": "python",
   "name": "python3"
  },
  "language_info": {
   "codemirror_mode": {
    "name": "ipython",
    "version": 3
   },
   "file_extension": ".py",
   "mimetype": "text/x-python",
   "name": "python",
   "nbconvert_exporter": "python",
   "pygments_lexer": "ipython3",
   "version": "3.6.4"
  }
 },
 "nbformat": 4,
 "nbformat_minor": 2
}
