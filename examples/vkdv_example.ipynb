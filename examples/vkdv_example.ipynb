{
 "cells": [
  {
   "cell_type": "markdown",
   "id": "2faa2ce2",
   "metadata": {},
   "source": [
    "# Tutorial to run the variable-coefficient KdV (vKdV) model\n",
    "\n",
    "This tutorial gives a background on running the vKdV model to track the evolution of an internal wave in an ocean with continuous density stratification. The model equation is\n",
    "\n",
    "$$\n",
    "\\frac{\\partial A}{\\partial t} + c(x) \\frac{\\partial A}{\\partial x} + \\alpha(x) A \\frac{\\partial A}{\\partial x} +\\beta(x) \\frac{\\partial^3 A}{\\partial x^3}\n",
    "+ \\frac{c(x)}{2Q(x)}\\frac{\\partial Q}{\\partial x}A\\ = 0\n",
    "$$\n",
    "\n",
    "where the solution $A(x,t)$ is the wave amplitude (roughly the displacement of an isopycnal within the pycnocline for a mode-1 internal wave).\n",
    "\n",
    "How to:\n",
    "  - Create initial stratification and bathymetry\n",
    "  - Initialise a `KdV` class\n",
    "  - Inspect the KdV parameters\n",
    "  - Specifify boundary conditions\n",
    "  - Run a model\n",
    "  - Inspect the results\n",
    "  \n",
    "---\n",
    "\n",
    "Matt Rayson\n",
    "\n",
    "University of Western Australia\n",
    "\n",
    "March 2022"
   ]
  },
  {
   "cell_type": "code",
   "execution_count": null,
   "id": "457ef6c3",
   "metadata": {},
   "outputs": [],
   "source": [
    "import numpy as np\n",
    "import matplotlib.pyplot as plt\n",
    "from iwaves.kdv.vkdv import  vKdV as KdV"
   ]
  },
  {
   "cell_type": "code",
   "execution_count": null,
   "id": "017a7dbc",
   "metadata": {},
   "outputs": [],
   "source": [
    "plt.rcParams['axes.labelsize'] = 'medium'\n",
    "plt.rcParams['font.size'] = 14"
   ]
  },
  {
   "cell_type": "markdown",
   "id": "7302f445",
   "metadata": {},
   "source": [
    "# Specify the horizontal domain and create a bathymetry section\n",
    "\n",
    "We use an analytical profile of a smooth shelf break represented with a tanh function."
   ]
  },
  {
   "cell_type": "code",
   "execution_count": null,
   "id": "4bc1b642",
   "metadata": {},
   "outputs": [],
   "source": [
    "def depth_tanh(beta, x):\n",
    "    \"\"\"\n",
    "    Hyperbolic tangent shelf break\n",
    "\n",
    "    H - total depth\n",
    "    h0 - shelf height\n",
    "    x0 - shelf break x location\n",
    "    lt - shelf break width\n",
    "    \"\"\"\n",
    "    \n",
    "    H, h0, x0, lt = beta\n",
    "\n",
    "    return H-0.5*h0*(1+np.tanh((x-x0)/(0.5*lt)))"
   ]
  },
  {
   "cell_type": "code",
   "execution_count": null,
   "id": "26afc1b3",
   "metadata": {},
   "outputs": [],
   "source": [
    "# Model parameters\n",
    "N = 3000 # Number of grid points\n",
    "dx = 50. # horizontal grid spacing\n",
    "\n",
    "H = 600\n",
    "h0 = 450\n",
    "bathy_params = [H, h0, 75e3, 70e3]  # See the depth_tanh function for the mean\n",
    "\n",
    "# The horizontal domain\n",
    "x = np.arange(0, N*dx, dx)\n",
    "\n",
    "# The depth\n",
    "h = depth_tanh(bathy_params, x) \n",
    "\n",
    "plt.figure()\n",
    "plt.plot(x, -h)\n",
    "plt.title('KdV model bathymetry')\n",
    "plt.ylabel('Depth [m]')\n",
    "plt.xlabel('x [m]')\n",
    "plt.ylim(-H, 0)"
   ]
  },
  {
   "cell_type": "markdown",
   "id": "66323799",
   "metadata": {},
   "source": [
    "# Specify the vertical density profile\n",
    "\n",
    "We use a double hyperbolic tangent to represent density profile. This is a good approximation for some regions of the upper ocean. See e.g.,\n",
    "\n",
    "- Manderson, A, M. D. Rayson, E. Cripps, M. Girolami, J. P. Gosling, M. Hodkiewicz, N. L. Jones, G. N. Ivey, (2019) Uncertainty quantification of density and stratification estimates with implications for predicting ocean dynamics, *Journal of Atmospheric and Oceanic Technology*, [https://journals.ametsoc.org/doi/full/10.1175/JTECH-D-18-0200.1](https://journals.ametsoc.org/doi/full/10.1175/JTECH-D-18-0200.1)\n",
    "- Rayson, M. D., N. L. Jones and G. N. Ivey (2019), Observations of large amplitude mode-2 nonlinear internal waves on the Australian North West Shelf, *Journal of Physical Oceanography*, [https://doi.org/10.1175/JPO-D-18-0097.1](https://doi.org/10.1175/JPO-D-18-0097.1)\n",
    "\n",
    "\n"
   ]
  },
  {
   "cell_type": "code",
   "execution_count": null,
   "id": "cb39fc69",
   "metadata": {},
   "outputs": [],
   "source": [
    "def rho_double_tanh(beta, z):\n",
    "    \"\"\"\n",
    "    Double hyperbolic tangent density profile model\n",
    "    \"\"\"\n",
    "    return beta[0] - beta[1]*(np.tanh((z+beta[2])/beta[3])\n",
    "        + np.tanh((z+beta[4])/beta[5]))\n"
   ]
  },
  {
   "cell_type": "code",
   "execution_count": null,
   "id": "83f7e8fe",
   "metadata": {},
   "outputs": [],
   "source": [
    "# See the references above for the mean of the\n",
    "rho_params =[1023.68, # Mean density\n",
    "     1.22, # Density jump\n",
    "     156.7, # Depth of the first pycnocline\n",
    "     53.6,# Width of the first pycnocline\n",
    "     73.1,# Depth of the first pycnocline\n",
    "     40.2, # Width of the second pycnocline\n",
    "        ] \n",
    "\n",
    "# Number of vertical levels\n",
    "Nz = 50\n",
    "\n",
    "z = np.linspace(-H,0,Nz)\n",
    "rhoz = rho_double_tanh(rho_params,z)\n",
    "\n",
    "plt.figure()\n",
    "plt.plot(rhoz, z)\n",
    "plt.ylabel('Depth [m]')\n",
    "plt.xlabel('Density [kg m$^{-3}$]')"
   ]
  },
  {
   "cell_type": "markdown",
   "id": "b7b8bb92",
   "metadata": {},
   "source": [
    "# Initialise the KdV model\n",
    "\n",
    "This requires the density profile and bathymetric section plus a few other model inputs. This does not solve the equation; it only calculates the input parameters e.g. nonlinearity, linear phase speed."
   ]
  },
  {
   "cell_type": "code",
   "execution_count": null,
   "id": "9a0e8716",
   "metadata": {},
   "outputs": [],
   "source": [
    "# IMEX options (These are weights for the numerical time integration scheme)\n",
    "imex={\n",
    "        'MCN_AX2':(1/8., 3/8.),\n",
    "        'AM2_AX2':(1/2., 1/2.),\n",
    "        'AI2_AB3':(3/2., 5/6.),\n",
    "        'BDF2_BX2':(0.,0.),\n",
    "        'BDF2_BX2s':(0.,1/2.),\n",
    "        'BI2_BC3':(1/3.,2/3.),\n",
    "}\n"
   ]
  },
  {
   "cell_type": "code",
   "execution_count": null,
   "id": "5b0a0a8e",
   "metadata": {},
   "outputs": [],
   "source": [
    "\n",
    "dt = 15.\n",
    "mode = 0 # Mode=0 corresponds to mode-1 waves\n",
    "imexscheme = 'AM2_AX2'\n",
    "c_im = imex[imexscheme][0]\n",
    "b_ex = imex[imexscheme][1]\n",
    "\n",
    "kdvargs = dict(\n",
    "   N=N,\n",
    "   dx=dx,\n",
    "   dt=dt,\n",
    "   spongedist = 5e3,\n",
    "   spongetime = 360.,\n",
    "   Nsubset = 10,\n",
    "   nonhydrostatic=1.,\n",
    "   nonlinear=1.,\n",
    "   c_im=c_im,\n",
    "   b_ex=b_ex,\n",
    "   verbose=True,\n",
    ")\n",
    "\n",
    "## Initialise the class\n",
    "mykdv = KdV(rhoz, z, h, x, mode, **kdvargs)\n"
   ]
  },
  {
   "cell_type": "markdown",
   "id": "65c18c0d",
   "metadata": {},
   "source": [
    "# Inspect the KdV model parameters"
   ]
  },
  {
   "cell_type": "code",
   "execution_count": null,
   "id": "2b1decad",
   "metadata": {},
   "outputs": [],
   "source": [
    "# Plot some of the environmental parameters as a function of distance\n",
    "plt.figure(figsize=(6,10))\n",
    "ax1=plt.subplot(411)\n",
    "ax1.plot(mykdv.x, mykdv.c)\n",
    "plt.ylabel('c [m s$^{-1}$]')\n",
    "ax1.set_xticklabels([])\n",
    "ax2=plt.subplot(412)\n",
    "ax2.plot(mykdv.x, mykdv.alpha)\n",
    "plt.ylabel(r'$\\alpha$ [s$^{-1}$]')\n",
    "ax2.set_xticklabels([])\n",
    "\n",
    "ax3=plt.subplot(413)\n",
    "ax3.plot(mykdv.x, mykdv.beta)\n",
    "plt.ylabel(r'$\\beta$ [m$^3$ s$^{-1}$]')\n",
    "ax3.set_xticklabels([])\n",
    "\n",
    "ax2=plt.subplot(414)\n",
    "ax2.plot(mykdv.x, 1/mykdv.Q)\n",
    "plt.ylabel(r'Linear amplification \"Q\"')\n"
   ]
  },
  {
   "cell_type": "code",
   "execution_count": null,
   "id": "011244b3",
   "metadata": {},
   "outputs": [],
   "source": [
    "# Plot the density profile and vertical eigenfunction\n",
    "plt.figure(figsize=(6,6))\n",
    "ax1=plt.subplot(121)\n",
    "ax1.plot(mykdv.Phi[:,0],mykdv.Z[:,0], )\n",
    "plt.xlabel('$\\phi$')\n",
    "\n",
    "ax2=plt.subplot(122)\n",
    "ax2.plot(mykdv.rhoZ[:,0],mykdv.Z[:,0], )\n",
    "plt.xlabel('Density [kg m$^{-3}$]')\n",
    "ax2.set_yticklabels([])\n",
    "ax1.set_ylabel('Depth [m]')"
   ]
  },
  {
   "cell_type": "code",
   "execution_count": null,
   "id": "e289c6b6",
   "metadata": {},
   "outputs": [],
   "source": [
    "# Plot the density profile and vertical eigenfunction (upstream)\n",
    "plt.figure(figsize=(6,6))\n",
    "ax1=plt.subplot(121)\n",
    "ax1.plot(mykdv.Phi[:,2000],mykdv.Z[:,2000], )\n",
    "plt.xlabel('$\\phi$')\n",
    "\n",
    "ax2=plt.subplot(122)\n",
    "ax2.plot(mykdv.rhoZ[:,2000],mykdv.Z[:,2000], )\n",
    "plt.xlabel('Density [kg m$^{-3}$]')\n",
    "ax2.set_yticklabels([])\n",
    "ax1.set_ylabel('Depth [m]')"
   ]
  },
  {
   "cell_type": "markdown",
   "id": "9073975b",
   "metadata": {},
   "source": [
    "# Specify a boundary condition\n",
    "\n",
    "Use a sine wave boundary condition"
   ]
  },
  {
   "cell_type": "code",
   "execution_count": null,
   "id": "b7dc9e96",
   "metadata": {},
   "outputs": [],
   "source": [
    "def bcfunc(a0, period, t):\n",
    "    omega = 2*np.pi/period\n",
    "    return a0*np.sin(omega*t)"
   ]
  },
  {
   "cell_type": "code",
   "execution_count": null,
   "id": "804cad80",
   "metadata": {},
   "outputs": [],
   "source": [
    "# Specify the runtime in seconds\n",
    "runtime = 2*86400 # 3 days\n",
    "ntout = 600//dt # how often to output the model solution\n",
    "\n",
    "# Boundary condition parameters\n",
    "a0 = 25.\n",
    "period = 12*3600.\n",
    "\n",
    "# Number of time steps to run\n",
    "nsteps = int(runtime//dt)\n",
    "\n",
    "# Plot up the boundary function\n",
    "t = np.arange(0, nsteps*dt, dt)\n",
    "plt.figure()\n",
    "\n",
    "plt.plot(t, bcfunc(a0, period, t))\n",
    "plt.ylabel('A [m]')\n",
    "plt.xlabel('t [s]')"
   ]
  },
  {
   "cell_type": "markdown",
   "id": "f596df40",
   "metadata": {},
   "source": [
    "# Run the model..."
   ]
  },
  {
   "cell_type": "code",
   "execution_count": null,
   "id": "26c968b7",
   "metadata": {},
   "outputs": [],
   "source": [
    "t=[]\n",
    "A=[]\n",
    "mykdv.t=0\n",
    "for ii in range(nsteps):\n",
    "    if ii%ntout==0:\n",
    "        # Store snapshots of the solution every \"ntout\" steps\n",
    "        t.append(mykdv.t)\n",
    "        A.append(mykdv.B_n_p1*1) # the solution is stored as the \"B_n_p1\" \n",
    "        \n",
    "    if mykdv.solve_step(bc_left=bcfunc(a0,period,mykdv.t)) != 0:\n",
    "        print('Blowing up at step: %d'%ii)\n",
    "        break\n",
    "        \n",
    "\n",
    "        \n",
    "t = np.array(t)\n",
    "A = np.array(A)"
   ]
  },
  {
   "cell_type": "code",
   "execution_count": null,
   "id": "08affaa1",
   "metadata": {},
   "outputs": [],
   "source": [
    "#\"x-t\"/Hovmoller plot of the solution\n",
    "\n",
    "plt.figure()\n",
    "plt.pcolormesh(x, t, A, cmap='RdBu')\n",
    "plt.ylabel('t [s]')\n",
    "plt.xlabel('x [m]')\n"
   ]
  },
  {
   "cell_type": "code",
   "execution_count": null,
   "id": "77a4c0ac",
   "metadata": {},
   "outputs": [],
   "source": [
    "# Animate the solution\n",
    "from matplotlib.animation import FuncAnimation\n",
    "from IPython.display import HTML"
   ]
  },
  {
   "cell_type": "code",
   "execution_count": null,
   "id": "26af2820",
   "metadata": {},
   "outputs": [],
   "source": [
    "tstep = 0\n",
    "\n",
    "fig=plt.figure(figsize=(12,5))\n",
    "ax=plt.subplot(111)\n",
    "ll, = ax.plot(x, A[tstep,:])\n",
    "plt.xlim(x[0],x[-1])\n",
    "plt.ylabel('A [m]')\n",
    "plt.xlabel('x [m]')\n",
    "txt= plt.text(0.05, 0.9, \"t={} [s]\".format(tstep*mykdv.dt*ntout), transform=ax.transAxes)\n",
    "plt.ylim(-3*a0, 3*a0)\n",
    "\n",
    "def update(tstep):\n",
    "\n",
    "        ll.set_ydata(A[tstep,:])\n",
    "        txt.set_text(\"t={} [s]\".format(tstep*mykdv.dt*ntout))\n",
    "        \n",
    "        return txt\n",
    "    \n",
    "anim = FuncAnimation(fig, update, frames=range(0, t.shape[0]))\n",
    "HTML(anim.to_jshtml())"
   ]
  },
  {
   "cell_type": "code",
   "execution_count": null,
   "id": "eec2ad88",
   "metadata": {},
   "outputs": [],
   "source": []
  }
 ],
 "metadata": {
  "kernelspec": {
   "display_name": "Python 3 (ipykernel)",
   "language": "python",
   "name": "python3"
  },
  "language_info": {
   "codemirror_mode": {
    "name": "ipython",
    "version": 3
   },
   "file_extension": ".py",
   "mimetype": "text/x-python",
   "name": "python",
   "nbconvert_exporter": "python",
   "pygments_lexer": "ipython3",
   "version": "3.10.10"
  }
 },
 "nbformat": 4,
 "nbformat_minor": 5
}
